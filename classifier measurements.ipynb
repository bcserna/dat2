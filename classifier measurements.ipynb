{
 "cells": [
  {
   "cell_type": "code",
   "execution_count": 1,
   "metadata": {
    "ExecuteTime": {
     "end_time": "2017-11-30T10:29:59.515247Z",
     "start_time": "2017-11-30T10:29:52.191133Z"
    },
    "collapsed": true
   },
   "outputs": [],
   "source": [
    "import numpy as np\n",
    "import pandas as pd\n",
    "import warnings\n",
    "import re\n",
    "from tqdm import tqdm_notebook\n",
    "from collections import OrderedDict\n",
    "from sklearn.metrics import f1_score, classification_report\n",
    "from sklearn.exceptions import UndefinedMetricWarning\n",
    "from sklearn.svm import LinearSVC, SVC\n",
    "from sklearn.linear_model import SGDClassifier, LogisticRegressionCV\n",
    "from sklearn.multiclass import OneVsRestClassifier\n",
    "from sklearn.model_selection import cross_val_predict\n",
    "from sklearn.naive_bayes import MultinomialNB, GaussianNB, BernoulliNB\n",
    "from sklearn.preprocessing import MinMaxScaler, MaxAbsScaler, StandardScaler\n",
    "from sklearn.neighbors import KNeighborsClassifier\n",
    "from sklearn.externals import joblib\n",
    "from scipy.sparse import hstack, csr_matrix\n",
    "import matplotlib.pyplot as plt\n",
    "%matplotlib inline\n",
    "\n",
    "from dat2.tagger import Tagger, EnsembleClassifier\n",
    "from dat2.util import label_vectors_to_string, print_messages_with_labels, LABELS\n",
    "\n",
    "pd.set_option('display.max_rows', 500)\n",
    "pd.set_option('display.max_columns', 500)\n",
    "\n",
    "random_state = 777"
   ]
  },
  {
   "cell_type": "code",
   "execution_count": 2,
   "metadata": {
    "ExecuteTime": {
     "end_time": "2017-11-30T10:29:59.942664Z",
     "start_time": "2017-11-30T10:29:59.517114Z"
    }
   },
   "outputs": [
    {
     "name": "stdout",
     "output_type": "stream",
     "text": [
      "char feature length: 12102\n",
      "all_tfidf feature length: 1109\n",
      "firstn_tfidf feature length: 264\n",
      "infersent feature length: 4096\n",
      "wordvec feature length: 300\n"
     ]
    }
   ],
   "source": [
    "turk_labels = joblib.load('./data/turk_labels.pkl')\n",
    "prem_labels = joblib.load('./data/prem_labels.pkl')\n",
    "turk_features = {}\n",
    "prem_features = {}\n",
    "feature_categories = ['char', 'all_tfidf', 'firstn_tfidf', 'infersent', 'wordvec']\n",
    "\n",
    "for category in feature_categories:\n",
    "    turk_features[category] = joblib.load(''.join(('./data/turk_', category, '.pkl')))\n",
    "    prem_features[category] = joblib.load(''.join(('./data/prem_', category, '.pkl')))\n",
    "    \n",
    "for category in feature_categories:\n",
    "    print(category, 'feature length:', turk_features[category].shape[1])"
   ]
  },
  {
   "cell_type": "code",
   "execution_count": 3,
   "metadata": {
    "ExecuteTime": {
     "end_time": "2017-11-30T10:30:10.676008Z",
     "start_time": "2017-11-30T10:30:10.662165Z"
    },
    "collapsed": true
   },
   "outputs": [],
   "source": [
    "def classification_report_to_df(report):\n",
    "    rows = report.split('\\n')\n",
    "    fields = OrderedDict()\n",
    "    split_avg = str.split(rows[-2])\n",
    "    fields['avg-p'] = float(split_avg[3])\n",
    "    fields['avg-r'] = float(split_avg[4])\n",
    "    fields['avg-f1'] = float(split_avg[5])\n",
    "    for row in rows[1:-2]:\n",
    "        if row:\n",
    "            split_row = str.split(row)\n",
    "            fields['p-' + split_row[0]] = float(split_row[1])\n",
    "            fields['r-' + split_row[0]] = float(split_row[2])\n",
    "            fields['f1-' + split_row[0]] = float(split_row[3])\n",
    "            fields['supp-' + split_row[0]] = int(split_row[4])\n",
    "    return pd.DataFrame(data=fields, index=[0])\n",
    "\n",
    "def filter_by_support(scores, threshold):\n",
    "    for label in LABELS:\n",
    "        supp_column_name = 'supp-' + label\n",
    "        if scores[[supp_column_name]].values[0] < threshold:\n",
    "            scores = scores.drop(\n",
    "                [supp_column_name, 'p-' + label, 'r-' + label, 'f1-' + label],\n",
    "                axis=1, errors='ignore')\n",
    "    return scores"
   ]
  },
  {
   "cell_type": "code",
   "execution_count": 82,
   "metadata": {
    "ExecuteTime": {
     "end_time": "2017-12-03T11:55:22.449828Z",
     "start_time": "2017-12-03T11:55:22.387667Z"
    }
   },
   "outputs": [
    {
     "name": "stderr",
     "output_type": "stream",
     "text": [
      "/Users/bcserna/anaconda/lib/python3.6/site-packages/sklearn/linear_model/stochastic_gradient.py:84: FutureWarning: max_iter and tol parameters have been added in <class 'sklearn.linear_model.stochastic_gradient.SGDClassifier'> in 0.19. If both are left unset, they default to max_iter=5 and tol=None. If tol is not None, max_iter defaults to max_iter=1000. From 0.21, default max_iter will be 1000, and default tol will be 1e-3.\n",
      "  \"and default tol will be 1e-3.\" % type(self), FutureWarning)\n"
     ]
    }
   ],
   "source": [
    "classifiers = {\n",
    "#     'PolyKernelBalancedSVC': OneVsRestClassifier(\n",
    "#         SVC(\n",
    "#             kernel='poly',\n",
    "#             class_weight='balanced',\n",
    "#             random_state=random_state),\n",
    "#         n_jobs=-1),\n",
    "#     'RBFKernelBalancedSVC': OneVsRestClassifier(\n",
    "#         SVC(\n",
    "#             kernel='rbf',\n",
    "#             class_weight='balanced',\n",
    "#             random_state=random_state),\n",
    "#         n_jobs=-1),\n",
    "    'LinearSVC': OneVsRestClassifier(\n",
    "        SVC(\n",
    "            kernel='linear',\n",
    "            class_weight='balanced',\n",
    "            random_state=random_state,\n",
    "        ),\n",
    "        n_jobs=-1),\n",
    "    \n",
    "    'L1_ModhuberSGD': OneVsRestClassifier(\n",
    "        SGDClassifier(\n",
    "            loss='modified_huber',\n",
    "            penalty='l1',\n",
    "            class_weight='balanced', \n",
    "            random_state=random_state),\n",
    "        n_jobs=-1),\n",
    "    'L2_ModhuberSGD': OneVsRestClassifier(\n",
    "        SGDClassifier(\n",
    "            loss='modified_huber',\n",
    "            penalty='l2',\n",
    "            class_weight='balanced', \n",
    "            random_state=random_state),\n",
    "        n_jobs=-1),\n",
    "    'ElasticModhuberSGD': OneVsRestClassifier(\n",
    "        SGDClassifier(\n",
    "            loss='modified_huber',\n",
    "            penalty='elasticnet',\n",
    "            class_weight='balanced', \n",
    "            random_state=random_state),\n",
    "        n_jobs=-1),\n",
    "    \n",
    "    'L1_LogSGD': OneVsRestClassifier(\n",
    "        SGDClassifier(\n",
    "            loss='log', \n",
    "            penalty='l1',\n",
    "            class_weight='balanced',\n",
    "            random_state=random_state),\n",
    "        n_jobs=-1),\n",
    "#     'L2LogSGD': OneVsRestClassifier(\n",
    "#         SGDClassifier(\n",
    "#             loss='log',\n",
    "#             penalty='l2',\n",
    "#             class_weight='balanced',\n",
    "#             random_state=random_state),\n",
    "#         n_jobs=-1),\n",
    "#     'ElasticLogSGD': OneVsRestClassifier(\n",
    "#         SGDClassifier(\n",
    "#             loss='log',\n",
    "#             penalty='elasticnet',\n",
    "#             class_weight='balanced',\n",
    "#             random_state=random_state),\n",
    "#         n_jobs=-1),\n",
    "    \n",
    "#     'KNN-3': OneVsRestClassifier(\n",
    "#         KNeighborsClassifier(\n",
    "#             n_neighbors=3, \n",
    "#             n_jobs=-1),\n",
    "#         n_jobs=-1),\n",
    "#     'KNN-5': OneVsRestClassifier(\n",
    "#         KNeighborsClassifier(\n",
    "#             n_neighbors=5,\n",
    "#             n_jobs=-1),\n",
    "#         n_jobs=-1),\n",
    "#     'KNN-7': OneVsRestClassifier(\n",
    "#         KNeighborsClassifier(\n",
    "#             n_neighbors=7,\n",
    "#             n_jobs=-1), \n",
    "#         n_jobs=-1),\n",
    "    \n",
    "#     'GaussianNB': OneVsRestClassifier(GaussianNB(), n_jobs=-1),\n",
    "#     'MultinomialNB': OneVsRestClassifier(MultinomialNB(), n_jobs=-1),\n",
    "}"
   ]
  },
  {
   "cell_type": "code",
   "execution_count": 12,
   "metadata": {
    "ExecuteTime": {
     "end_time": "2017-11-30T14:03:28.088249Z",
     "start_time": "2017-11-30T14:03:28.044967Z"
    }
   },
   "outputs": [],
   "source": [
    "def evaluate_classifiers(classifiers=classifiers, features=feature_categories):\n",
    "    feature_reports = {}\n",
    "    with warnings.catch_warnings():\n",
    "        warnings.filterwarnings('ignore', category=UserWarning)\n",
    "\n",
    "        for f in tqdm_notebook(features, desc='Feature sets'):\n",
    "            clf_reports = {}\n",
    "            for clf_name in tqdm_notebook(classifiers, desc=''.join(['Classifiers', '(', f, ')']), leave=False):\n",
    "                clf = classifiers[clf_name]\n",
    "                clf.fit(X=turk_features[f], y=turk_labels)\n",
    "#                 pred = clf.predict(prem_features[f])\n",
    "                pred = cross_val_predict(estimator=clf, X=turk_features[f], y=turk_labels, cv=5)\n",
    "                report = classification_report(y_true=turk_labels, y_pred=pred, target_names=LABELS)\n",
    "                report_df = classification_report_to_df(report)\n",
    "                clf_reports[clf_name] = report_df\n",
    "            feature_reports[f] = clf_reports\n",
    "    return feature_reports"
   ]
  },
  {
   "cell_type": "code",
   "execution_count": 13,
   "metadata": {
    "ExecuteTime": {
     "end_time": "2017-11-30T14:05:06.168315Z",
     "start_time": "2017-11-30T14:03:28.734112Z"
    }
   },
   "outputs": [
    {
     "data": {
      "application/vnd.jupyter.widget-view+json": {
       "model_id": "07033632758e4c9d99e244fa7c27da6c"
      }
     },
     "metadata": {},
     "output_type": "display_data"
    },
    {
     "data": {
      "application/vnd.jupyter.widget-view+json": {
       "model_id": "722fcd1b83794041979fe9da9c0cd021"
      }
     },
     "metadata": {},
     "output_type": "display_data"
    },
    {
     "data": {
      "application/vnd.jupyter.widget-view+json": {
       "model_id": "2108019cd8a54e209aa74e9152fc06e8"
      }
     },
     "metadata": {},
     "output_type": "display_data"
    },
    {
     "data": {
      "application/vnd.jupyter.widget-view+json": {
       "model_id": "3dc2be6d74434c94a3a94c23c3f011ad"
      }
     },
     "metadata": {},
     "output_type": "display_data"
    },
    {
     "data": {
      "application/vnd.jupyter.widget-view+json": {
       "model_id": "346c1eb0fec740a49c4c345528309a81"
      }
     },
     "metadata": {},
     "output_type": "display_data"
    },
    {
     "data": {
      "application/vnd.jupyter.widget-view+json": {
       "model_id": "b505dd5926974fcea2ea1f5ebbe1ebf2"
      }
     },
     "metadata": {},
     "output_type": "display_data"
    },
    {
     "name": "stdout",
     "output_type": "stream",
     "text": [
      "\n"
     ]
    }
   ],
   "source": [
    "reports = evaluate_classifiers()"
   ]
  },
  {
   "cell_type": "code",
   "execution_count": 14,
   "metadata": {
    "ExecuteTime": {
     "end_time": "2017-11-30T14:05:06.204461Z",
     "start_time": "2017-11-30T14:05:06.171157Z"
    }
   },
   "outputs": [
    {
     "name": "stdout",
     "output_type": "stream",
     "text": [
      "\n",
      " L2_ModhuberSGD\n",
      "char [ 0.59]\n",
      "all_tfidf [ 0.62]\n",
      "firstn_tfidf [ 0.62]\n",
      "infersent [ 0.59]\n",
      "wordvec [ 0.46]\n",
      "\n",
      " ElasticModhuberSGD\n",
      "char [ 0.6]\n",
      "all_tfidf [ 0.64]\n",
      "firstn_tfidf [ 0.61]\n",
      "infersent [ 0.6]\n",
      "wordvec [ 0.45]\n"
     ]
    }
   ],
   "source": [
    "for clf_name in classifiers:\n",
    "    print('\\n', clf_name)\n",
    "    for f in feature_categories:\n",
    "        print(f, reports[f][clf_name][['avg-f1']].values[0])"
   ]
  },
  {
   "cell_type": "markdown",
   "metadata": {},
   "source": [
    "## Ensembles"
   ]
  },
  {
   "cell_type": "code",
   "execution_count": 39,
   "metadata": {
    "ExecuteTime": {
     "end_time": "2017-11-29T19:27:50.815586Z",
     "start_time": "2017-11-29T19:27:50.808221Z"
    }
   },
   "outputs": [
    {
     "name": "stderr",
     "output_type": "stream",
     "text": [
      "/Users/bcserna/anaconda/lib/python3.6/site-packages/sklearn/linear_model/stochastic_gradient.py:84: FutureWarning: max_iter and tol parameters have been added in <class 'sklearn.linear_model.stochastic_gradient.SGDClassifier'> in 0.19. If both are left unset, they default to max_iter=5 and tol=None. If tol is not None, max_iter defaults to max_iter=1000. From 0.21, default max_iter will be 1000, and default tol will be 1e-3.\n",
      "  \"and default tol will be 1e-3.\" % type(self), FutureWarning)\n"
     ]
    }
   ],
   "source": [
    "voting_algs = ['hard', 'soft', 'hard-stacking', 'soft-stacking']\n",
    "\n",
    "ensembles = {voting : EnsembleClassifier(\n",
    "                {'svc': OneVsRestClassifier(SVC(kernel='linear',class_weight='balanced',random_state=random_state,probability=True),n_jobs=-1),\n",
    "                 'lr': OneVsRestClassifier(SGDClassifier(loss='log',penalty='l1',class_weight='balanced',random_state=random_state),n_jobs=-1),\n",
    "                 'modhub': OneVsRestClassifier(SGDClassifier(loss='modified_huber',penalty='l1',class_weight='balanced',random_state=random_state),n_jobs=-1)},\n",
    "                voting=voting)\n",
    "             for voting in voting_algs}"
   ]
  },
  {
   "cell_type": "code",
   "execution_count": 40,
   "metadata": {
    "ExecuteTime": {
     "end_time": "2017-11-29T19:28:23.161969Z",
     "start_time": "2017-11-29T19:27:51.166664Z"
    }
   },
   "outputs": [
    {
     "data": {
      "application/vnd.jupyter.widget-view+json": {
       "model_id": "b344b7cef45341b29530fd4041b808a2"
      }
     },
     "metadata": {},
     "output_type": "display_data"
    },
    {
     "name": "stderr",
     "output_type": "stream",
     "text": [
      "/Users/bcserna/anaconda/lib/python3.6/site-packages/sklearn/linear_model/base.py:340: RuntimeWarning: overflow encountered in exp\n",
      "  np.exp(prob, prob)\n"
     ]
    },
    {
     "name": "stdout",
     "output_type": "stream",
     "text": [
      "\n"
     ]
    }
   ],
   "source": [
    "training_data = {\n",
    "    'svc': turk_features['firstn_tfidf'],\n",
    "    'lr': turk_features['firstn_tfidf'],\n",
    "    'modhub': turk_features['infersent']\n",
    "}\n",
    "\n",
    "for e in tqdm_notebook(ensembles):\n",
    "    ensembles[e].fit(training_data, turk_labels)"
   ]
  },
  {
   "cell_type": "code",
   "execution_count": 41,
   "metadata": {
    "ExecuteTime": {
     "end_time": "2017-11-29T19:28:24.438597Z",
     "start_time": "2017-11-29T19:28:23.165243Z"
    }
   },
   "outputs": [
    {
     "name": "stdout",
     "output_type": "stream",
     "text": [
      "hard\n",
      "                              precision    recall  f1-score   support\n",
      "\n",
      "                  Answer-Ack       0.43      0.59      0.50        17\n",
      "                   Answer-No       0.50      1.00      0.67         2\n",
      "                  Answer-Yes       0.92      0.79      0.85        14\n",
      "            Greeting-Closing       0.46      0.86      0.60         7\n",
      "            Greeting-Opening       0.69      0.82      0.75        22\n",
      "               Question-Open       0.39      0.50      0.44        28\n",
      "              Question-YesNo       0.77      0.83      0.80        36\n",
      "                Request-Help       0.00      0.00      0.00         1\n",
      "                Request-Info       0.60      0.83      0.70        42\n",
      "               Request-Other       0.00      0.00      0.00         1\n",
      "           Socialact-Apology       0.00      0.00      0.00         1\n",
      "        Socialact-Downplayer       1.00      0.75      0.86        12\n",
      "         Socialact-Gratitude       1.00      0.83      0.91        35\n",
      "         Statement-Complaint       0.00      0.00      0.00         2\n",
      "Statement-ExpressiveNegative       0.00      0.00      0.00         0\n",
      "Statement-ExpressivePositive       0.08      0.17      0.11         6\n",
      "       Statement-Informative       0.89      0.86      0.88        88\n",
      "         Statement-OfferHelp       0.68      0.83      0.75        18\n",
      "           Statement-Promise       0.00      0.00      0.00         2\n",
      "     Statement-SuggestAction       0.19      0.50      0.27         6\n",
      "\n",
      "                 avg / total       0.72      0.76      0.73       340\n",
      "\n"
     ]
    },
    {
     "name": "stderr",
     "output_type": "stream",
     "text": [
      "/Users/bcserna/anaconda/lib/python3.6/site-packages/sklearn/metrics/classification.py:1135: UndefinedMetricWarning: Precision and F-score are ill-defined and being set to 0.0 in labels with no predicted samples.\n",
      "  'precision', 'predicted', average, warn_for)\n",
      "/Users/bcserna/anaconda/lib/python3.6/site-packages/sklearn/metrics/classification.py:1137: UndefinedMetricWarning: Recall and F-score are ill-defined and being set to 0.0 in labels with no true samples.\n",
      "  'recall', 'true', average, warn_for)\n",
      "/Users/bcserna/anaconda/lib/python3.6/site-packages/sklearn/linear_model/base.py:340: RuntimeWarning: overflow encountered in exp\n",
      "  np.exp(prob, prob)\n"
     ]
    },
    {
     "name": "stdout",
     "output_type": "stream",
     "text": [
      "soft\n",
      "                              precision    recall  f1-score   support\n",
      "\n",
      "                  Answer-Ack       0.67      0.35      0.46        17\n",
      "                   Answer-No       0.33      0.50      0.40         2\n",
      "                  Answer-Yes       1.00      0.79      0.88        14\n",
      "            Greeting-Closing       0.60      0.86      0.71         7\n",
      "            Greeting-Opening       0.69      0.82      0.75        22\n",
      "               Question-Open       0.44      0.39      0.42        28\n",
      "              Question-YesNo       0.86      0.69      0.77        36\n",
      "                Request-Help       0.00      0.00      0.00         1\n",
      "                Request-Info       0.68      0.67      0.67        42\n",
      "               Request-Other       0.00      0.00      0.00         1\n",
      "           Socialact-Apology       0.00      0.00      0.00         1\n",
      "        Socialact-Downplayer       1.00      0.67      0.80        12\n",
      "         Socialact-Gratitude       1.00      0.69      0.81        35\n",
      "         Statement-Complaint       0.00      0.00      0.00         2\n",
      "Statement-ExpressiveNegative       0.00      0.00      0.00         0\n",
      "Statement-ExpressivePositive       0.10      0.17      0.12         6\n",
      "       Statement-Informative       0.93      0.85      0.89        88\n",
      "         Statement-OfferHelp       0.75      0.83      0.79        18\n",
      "           Statement-Promise       0.00      0.00      0.00         2\n",
      "     Statement-SuggestAction       0.33      0.50      0.40         6\n",
      "\n",
      "                 avg / total       0.77      0.68      0.72       340\n",
      "\n",
      "hard-stacking\n",
      "                              precision    recall  f1-score   support\n",
      "\n",
      "                  Answer-Ack       0.40      0.35      0.38        17\n",
      "                   Answer-No       1.00      1.00      1.00         2\n",
      "                  Answer-Yes       0.92      0.79      0.85        14\n",
      "            Greeting-Closing       0.57      0.57      0.57         7\n",
      "            Greeting-Opening       0.72      0.82      0.77        22\n",
      "               Question-Open       0.50      0.32      0.39        28\n",
      "              Question-YesNo       0.87      0.56      0.68        36\n",
      "                Request-Help       0.00      0.00      0.00         1\n",
      "                Request-Info       0.76      0.31      0.44        42\n",
      "               Request-Other       0.00      0.00      0.00         1\n",
      "           Socialact-Apology       0.00      0.00      0.00         1\n",
      "        Socialact-Downplayer       1.00      0.50      0.67        12\n",
      "         Socialact-Gratitude       1.00      0.69      0.81        35\n",
      "         Statement-Complaint       0.00      0.00      0.00         2\n",
      "Statement-ExpressiveNegative       0.00      0.00      0.00         0\n",
      "Statement-ExpressivePositive       0.00      0.00      0.00         6\n",
      "       Statement-Informative       0.92      0.81      0.86        88\n",
      "         Statement-OfferHelp       0.83      0.83      0.83        18\n",
      "           Statement-Promise       0.00      0.00      0.00         2\n",
      "     Statement-SuggestAction       0.60      0.50      0.55         6\n",
      "\n",
      "                 avg / total       0.78      0.59      0.66       340\n",
      "\n",
      "soft-stacking\n",
      "                              precision    recall  f1-score   support\n",
      "\n",
      "                  Answer-Ack       0.46      0.35      0.40        17\n",
      "                   Answer-No       1.00      0.50      0.67         2\n",
      "                  Answer-Yes       1.00      0.79      0.88        14\n",
      "            Greeting-Closing       0.67      0.86      0.75         7\n",
      "            Greeting-Opening       0.75      0.82      0.78        22\n",
      "               Question-Open       0.47      0.32      0.38        28\n",
      "              Question-YesNo       0.92      0.67      0.77        36\n",
      "                Request-Help       0.00      0.00      0.00         1\n",
      "                Request-Info       0.60      0.21      0.32        42\n",
      "               Request-Other       0.00      0.00      0.00         1\n",
      "           Socialact-Apology       0.00      0.00      0.00         1\n",
      "        Socialact-Downplayer       1.00      0.50      0.67        12\n",
      "         Socialact-Gratitude       1.00      0.69      0.81        35\n",
      "         Statement-Complaint       0.00      0.00      0.00         2\n",
      "Statement-ExpressiveNegative       0.00      0.00      0.00         0\n",
      "Statement-ExpressivePositive       0.50      0.17      0.25         6\n",
      "       Statement-Informative       0.94      0.77      0.85        88\n",
      "         Statement-OfferHelp       0.82      0.78      0.80        18\n",
      "           Statement-Promise       0.00      0.00      0.00         2\n",
      "     Statement-SuggestAction       0.50      0.50      0.50         6\n",
      "\n",
      "                 avg / total       0.79      0.59      0.66       340\n",
      "\n"
     ]
    }
   ],
   "source": [
    "test_data = {\n",
    "    'svc': prem_features['firstn_tfidf'],\n",
    "    'lr': prem_features['firstn_tfidf'],\n",
    "    'modhub': prem_features['infersent']\n",
    "}\n",
    "for e in ensembles:\n",
    "    pred = ensembles[e].predict(test_data)\n",
    "    print(e)\n",
    "    print(classification_report(prem_labels, pred, target_names=LABELS))"
   ]
  },
  {
   "cell_type": "markdown",
   "metadata": {},
   "source": [
    "## Extra features"
   ]
  },
  {
   "cell_type": "code",
   "execution_count": 86,
   "metadata": {
    "ExecuteTime": {
     "end_time": "2017-12-03T11:56:47.571131Z",
     "start_time": "2017-12-03T11:56:46.437597Z"
    }
   },
   "outputs": [],
   "source": [
    "from scipy import sparse\n",
    "from scipy.sparse import coo_matrix\n",
    "\n",
    "turk_extra = {}\n",
    "prem_extra = {}\n",
    "\n",
    "turk_lexical = joblib.load('./data/turk_lexical.pkl')\n",
    "prem_lexical = joblib.load('./data/prem_lexical.pkl')\n",
    "turk_structural = joblib.load('./data/turk_structural.pkl')\n",
    "prem_structural = joblib.load('./data/prem_structural.pkl')\n",
    "\n",
    "turk_extra = {\n",
    "    'firstn_tfidf_lexical': sparse.hstack([coo_matrix(turk_features['firstn_tfidf']),coo_matrix(turk_lexical)]),\n",
    "    'firstn_tfidf_structural': sparse.hstack([coo_matrix(turk_features['firstn_tfidf']),coo_matrix(turk_structural)]),\n",
    "    'firstn_both': sparse.hstack([coo_matrix(turk_features['firstn_tfidf']),coo_matrix(turk_lexical),coo_matrix(turk_structural)]),\n",
    "    'infersent_lexical': sparse.hstack([coo_matrix(turk_features['infersent']),coo_matrix(turk_lexical)]),\n",
    "    'infersent_structural': sparse.hstack([coo_matrix(turk_features['infersent']),coo_matrix(turk_structural)]),\n",
    "    'infersent_both': sparse.hstack([coo_matrix(turk_features['infersent']),coo_matrix(turk_lexical),coo_matrix(turk_structural)])\n",
    "}\n",
    "\n",
    "prem_extra = {\n",
    "    'firstn_tfidf_lexical': sparse.hstack([coo_matrix(prem_features['firstn_tfidf']),coo_matrix(prem_lexical)]),\n",
    "    'firstn_tfidf_structural': sparse.hstack([coo_matrix(prem_features['firstn_tfidf']),coo_matrix(prem_structural)]),\n",
    "    'firstn_both': sparse.hstack([coo_matrix(prem_features['firstn_tfidf']),coo_matrix(prem_lexical),coo_matrix(prem_structural)]),\n",
    "    'infersent_lexical': sparse.hstack([coo_matrix(prem_features['infersent']),coo_matrix(prem_lexical)]),\n",
    "    'infersent_structural': sparse.hstack([coo_matrix(prem_features['infersent']),coo_matrix(prem_structural)]),\n",
    "    'infersent_both': sparse.hstack([coo_matrix(prem_features['infersent']),coo_matrix(prem_lexical),coo_matrix(prem_structural)])\n",
    "}"
   ]
  },
  {
   "cell_type": "code",
   "execution_count": 87,
   "metadata": {
    "ExecuteTime": {
     "end_time": "2017-12-03T11:57:10.280291Z",
     "start_time": "2017-12-03T11:56:59.818976Z"
    }
   },
   "outputs": [
    {
     "name": "stdout",
     "output_type": "stream",
     "text": [
      "                              precision    recall  f1-score   support\n",
      "\n",
      "                  Answer-Ack       0.37      0.50      0.42       106\n",
      "                   Answer-No       0.58      0.53      0.55        34\n",
      "                  Answer-Yes       0.70      0.80      0.75        66\n",
      "            Greeting-Closing       0.60      0.72      0.65        75\n",
      "            Greeting-Opening       0.86      0.87      0.86       215\n",
      "               Question-Open       0.53      0.74      0.62       181\n",
      "              Question-YesNo       0.50      0.69      0.58       164\n",
      "                Request-Help       0.29      0.43      0.35        53\n",
      "                Request-Info       0.31      0.57      0.40       152\n",
      "               Request-Other       0.00      0.00      0.00         3\n",
      "           Socialact-Apology       0.00      0.00      0.00         7\n",
      "        Socialact-Downplayer       0.36      0.47      0.41        17\n",
      "         Socialact-Gratitude       0.85      0.87      0.86       166\n",
      "         Statement-Complaint       0.00      0.00      0.00         7\n",
      "Statement-ExpressiveNegative       0.00      0.00      0.00         4\n",
      "Statement-ExpressivePositive       0.11      0.12      0.11        17\n",
      "       Statement-Informative       0.73      0.87      0.79       495\n",
      "         Statement-OfferHelp       0.78      0.82      0.80       140\n",
      "           Statement-Promise       0.00      0.00      0.00         5\n",
      "     Statement-SuggestAction       0.26      0.48      0.34        82\n",
      "\n",
      "                 avg / total       0.61      0.73      0.66      1989\n",
      "\n"
     ]
    },
    {
     "name": "stderr",
     "output_type": "stream",
     "text": [
      "/Users/bcserna/anaconda/lib/python3.6/site-packages/sklearn/metrics/classification.py:1135: UndefinedMetricWarning: Precision and F-score are ill-defined and being set to 0.0 in labels with no predicted samples.\n",
      "  'precision', 'predicted', average, warn_for)\n"
     ]
    },
    {
     "name": "stdout",
     "output_type": "stream",
     "text": [
      "                              precision    recall  f1-score   support\n",
      "\n",
      "                  Answer-Ack       0.33      0.55      0.41       106\n",
      "                   Answer-No       0.24      0.79      0.37        34\n",
      "                  Answer-Yes       0.48      0.82      0.60        66\n",
      "            Greeting-Closing       0.41      0.76      0.53        75\n",
      "            Greeting-Opening       0.80      0.89      0.85       215\n",
      "               Question-Open       0.47      0.69      0.56       181\n",
      "              Question-YesNo       0.46      0.62      0.53       164\n",
      "                Request-Help       0.18      0.53      0.26        53\n",
      "                Request-Info       0.28      0.50      0.36       152\n",
      "               Request-Other       0.00      0.00      0.00         3\n",
      "           Socialact-Apology       0.02      0.71      0.05         7\n",
      "        Socialact-Downplayer       0.11      0.76      0.20        17\n",
      "         Socialact-Gratitude       0.81      0.90      0.85       166\n",
      "         Statement-Complaint       0.01      0.29      0.02         7\n",
      "Statement-ExpressiveNegative       0.00      0.00      0.00         4\n",
      "Statement-ExpressivePositive       0.04      0.47      0.08        17\n",
      "       Statement-Informative       0.75      0.78      0.77       495\n",
      "         Statement-OfferHelp       0.61      0.84      0.70       140\n",
      "           Statement-Promise       0.01      1.00      0.03         5\n",
      "     Statement-SuggestAction       0.25      0.54      0.34        82\n",
      "\n",
      "                 avg / total       0.55      0.73      0.62      1989\n",
      "\n",
      "                              precision    recall  f1-score   support\n",
      "\n",
      "                  Answer-Ack       0.38      0.44      0.41       106\n",
      "                   Answer-No       0.74      0.59      0.66        34\n",
      "                  Answer-Yes       0.72      0.77      0.74        66\n",
      "            Greeting-Closing       0.57      0.68      0.62        75\n",
      "            Greeting-Opening       0.85      0.87      0.86       215\n",
      "               Question-Open       0.49      0.72      0.58       181\n",
      "              Question-YesNo       0.53      0.73      0.61       164\n",
      "                Request-Help       0.40      0.40      0.40        53\n",
      "                Request-Info       0.34      0.59      0.43       152\n",
      "               Request-Other       0.00      0.00      0.00         3\n",
      "           Socialact-Apology       0.00      0.00      0.00         7\n",
      "        Socialact-Downplayer       0.39      0.41      0.40        17\n",
      "         Socialact-Gratitude       0.86      0.86      0.86       166\n",
      "         Statement-Complaint       0.00      0.00      0.00         7\n",
      "Statement-ExpressiveNegative       0.00      0.00      0.00         4\n",
      "Statement-ExpressivePositive       0.00      0.00      0.00        17\n",
      "       Statement-Informative       0.73      0.84      0.78       495\n",
      "         Statement-OfferHelp       0.79      0.83      0.81       140\n",
      "           Statement-Promise       0.00      0.00      0.00         5\n",
      "     Statement-SuggestAction       0.31      0.43      0.36        82\n",
      "\n",
      "                 avg / total       0.62      0.72      0.66      1989\n",
      "\n"
     ]
    },
    {
     "name": "stderr",
     "output_type": "stream",
     "text": [
      "/Users/bcserna/anaconda/lib/python3.6/site-packages/sklearn/metrics/classification.py:1135: UndefinedMetricWarning: Precision and F-score are ill-defined and being set to 0.0 in labels with no predicted samples.\n",
      "  'precision', 'predicted', average, warn_for)\n"
     ]
    },
    {
     "name": "stdout",
     "output_type": "stream",
     "text": [
      "                              precision    recall  f1-score   support\n",
      "\n",
      "                  Answer-Ack       0.38      0.51      0.43       106\n",
      "                   Answer-No       0.24      0.82      0.37        34\n",
      "                  Answer-Yes       0.42      0.80      0.55        66\n",
      "            Greeting-Closing       0.42      0.79      0.54        75\n",
      "            Greeting-Opening       0.73      0.88      0.80       215\n",
      "               Question-Open       0.43      0.69      0.53       181\n",
      "              Question-YesNo       0.49      0.60      0.54       164\n",
      "                Request-Help       0.22      0.72      0.34        53\n",
      "                Request-Info       0.31      0.56      0.40       152\n",
      "               Request-Other       0.00      0.33      0.01         3\n",
      "           Socialact-Apology       0.01      0.29      0.02         7\n",
      "        Socialact-Downplayer       0.13      0.65      0.22        17\n",
      "         Socialact-Gratitude       0.72      0.86      0.78       166\n",
      "         Statement-Complaint       0.01      0.29      0.02         7\n",
      "Statement-ExpressiveNegative       0.00      0.25      0.01         4\n",
      "Statement-ExpressivePositive       0.04      0.35      0.07        17\n",
      "       Statement-Informative       0.75      0.77      0.76       495\n",
      "         Statement-OfferHelp       0.49      0.84      0.62       140\n",
      "           Statement-Promise       0.00      0.20      0.01         5\n",
      "     Statement-SuggestAction       0.23      0.56      0.33        82\n",
      "\n",
      "                 avg / total       0.53      0.72      0.60      1989\n",
      "\n"
     ]
    },
    {
     "name": "stderr",
     "output_type": "stream",
     "text": [
      "/Users/bcserna/anaconda/lib/python3.6/site-packages/sklearn/metrics/classification.py:1135: UndefinedMetricWarning: Precision and F-score are ill-defined and being set to 0.0 in labels with no predicted samples.\n",
      "  'precision', 'predicted', average, warn_for)\n"
     ]
    },
    {
     "name": "stdout",
     "output_type": "stream",
     "text": [
      "                              precision    recall  f1-score   support\n",
      "\n",
      "                  Answer-Ack       0.38      0.45      0.41       106\n",
      "                   Answer-No       0.71      0.59      0.65        34\n",
      "                  Answer-Yes       0.70      0.74      0.72        66\n",
      "            Greeting-Closing       0.60      0.68      0.64        75\n",
      "            Greeting-Opening       0.86      0.87      0.86       215\n",
      "               Question-Open       0.52      0.70      0.60       181\n",
      "              Question-YesNo       0.52      0.70      0.60       164\n",
      "                Request-Help       0.37      0.34      0.35        53\n",
      "                Request-Info       0.34      0.60      0.43       152\n",
      "               Request-Other       0.00      0.00      0.00         3\n",
      "           Socialact-Apology       0.00      0.00      0.00         7\n",
      "        Socialact-Downplayer       0.47      0.47      0.47        17\n",
      "         Socialact-Gratitude       0.85      0.87      0.86       166\n",
      "         Statement-Complaint       0.00      0.00      0.00         7\n",
      "Statement-ExpressiveNegative       0.00      0.00      0.00         4\n",
      "Statement-ExpressivePositive       0.00      0.00      0.00        17\n",
      "       Statement-Informative       0.74      0.84      0.79       495\n",
      "         Statement-OfferHelp       0.81      0.83      0.82       140\n",
      "           Statement-Promise       0.00      0.00      0.00         5\n",
      "     Statement-SuggestAction       0.30      0.41      0.35        82\n",
      "\n",
      "                 avg / total       0.63      0.72      0.66      1989\n",
      "\n",
      "                              precision    recall  f1-score   support\n",
      "\n",
      "                  Answer-Ack       0.36      0.53      0.43       106\n",
      "                   Answer-No       0.24      0.82      0.38        34\n",
      "                  Answer-Yes       0.52      0.74      0.61        66\n",
      "            Greeting-Closing       0.42      0.80      0.55        75\n",
      "            Greeting-Opening       0.79      0.87      0.83       215\n",
      "               Question-Open       0.47      0.62      0.53       181\n",
      "              Question-YesNo       0.50      0.66      0.57       164\n",
      "                Request-Help       0.19      0.64      0.29        53\n",
      "                Request-Info       0.32      0.54      0.40       152\n",
      "               Request-Other       0.00      0.33      0.01         3\n",
      "           Socialact-Apology       0.01      0.29      0.02         7\n",
      "        Socialact-Downplayer       0.13      0.65      0.22        17\n",
      "         Socialact-Gratitude       0.73      0.84      0.78       166\n",
      "         Statement-Complaint       0.01      0.29      0.02         7\n",
      "Statement-ExpressiveNegative       0.00      0.25      0.01         4\n",
      "Statement-ExpressivePositive       0.04      0.29      0.06        17\n",
      "       Statement-Informative       0.75      0.76      0.75       495\n",
      "         Statement-OfferHelp       0.61      0.77      0.68       140\n",
      "           Statement-Promise       0.00      0.20      0.01         5\n",
      "     Statement-SuggestAction       0.21      0.45      0.28        82\n",
      "\n",
      "                 avg / total       0.55      0.70      0.61      1989\n",
      "\n"
     ]
    }
   ],
   "source": [
    "for f in ['firstn_tfidf_lexical', 'firstn_tfidf_structural', 'firstn_both']:\n",
    "    for clf_ in ['LinearSVC', 'L1_LogSGD']:\n",
    "        clf = classifiers[clf_]\n",
    "        pred = cross_val_predict(clf, X=turk_extra[f], y=turk_labels)\n",
    "        print(classification_report(y_true=turk_labels, y_pred=pred, target_names=LABELS))"
   ]
  },
  {
   "cell_type": "markdown",
   "metadata": {
    "ExecuteTime": {
     "end_time": "2017-10-06T14:28:15.267707Z",
     "start_time": "2017-10-06T14:28:15.263707Z"
    }
   },
   "source": [
    "## Evaluating with different portions of the data"
   ]
  },
  {
   "cell_type": "code",
   "execution_count": 58,
   "metadata": {
    "ExecuteTime": {
     "end_time": "2017-12-01T17:48:53.804244Z",
     "start_time": "2017-12-01T17:47:52.201497Z"
    }
   },
   "outputs": [
    {
     "name": "stderr",
     "output_type": "stream",
     "text": [
      "/Users/bcserna/anaconda/lib/python3.6/site-packages/sklearn/linear_model/stochastic_gradient.py:84: FutureWarning: max_iter and tol parameters have been added in <class 'sklearn.linear_model.stochastic_gradient.SGDClassifier'> in 0.19. If both are left unset, they default to max_iter=5 and tol=None. If tol is not None, max_iter defaults to max_iter=1000. From 0.21, default max_iter will be 1000, and default tol will be 1e-3.\n",
      "  \"and default tol will be 1e-3.\" % type(self), FutureWarning)\n"
     ]
    },
    {
     "data": {
      "application/vnd.jupyter.widget-view+json": {
       "model_id": "561e85e4fc3846c5bca58eb4e8163980"
      }
     },
     "metadata": {},
     "output_type": "display_data"
    },
    {
     "data": {
      "application/vnd.jupyter.widget-view+json": {
       "model_id": "3f14f8fa97964eccadb8bc8828943cf4"
      }
     },
     "metadata": {},
     "output_type": "display_data"
    },
    {
     "data": {
      "application/vnd.jupyter.widget-view+json": {
       "model_id": "563eca2510ad420abe5f0711de92288c"
      }
     },
     "metadata": {},
     "output_type": "display_data"
    },
    {
     "data": {
      "application/vnd.jupyter.widget-view+json": {
       "model_id": "ac363895bc394e238d822c8426cde73b"
      }
     },
     "metadata": {},
     "output_type": "display_data"
    },
    {
     "name": "stdout",
     "output_type": "stream",
     "text": [
      "\n"
     ]
    }
   ],
   "source": [
    "estimators = {\n",
    "    'Lineáris SVM': OneVsRestClassifier(\n",
    "        SVC(\n",
    "            kernel='linear',\n",
    "            class_weight='balanced',\n",
    "            random_state=random_state,\n",
    "            C=0.2\n",
    "        ),\n",
    "        n_jobs=-1),\n",
    "    'LogReg (l1)': OneVsRestClassifier(\n",
    "        SGDClassifier(\n",
    "            loss='log', \n",
    "            penalty='l1',\n",
    "            class_weight='balanced',\n",
    "            random_state=random_state),\n",
    "        n_jobs=-1),\n",
    "#     'ModHuber SGD (l1)': OneVsRestClassifier(\n",
    "#         SGDClassifier(\n",
    "#             loss='modified_huber',\n",
    "#             penalty='l1',\n",
    "#             class_weight='balanced', \n",
    "#             random_state=random_state),\n",
    "#         n_jobs=-1),\n",
    "    'Gausszi NB': OneVsRestClassifier(GaussianNB(), n_jobs=-1)\n",
    "}\n",
    "scores = {e:[] for e in estimators}\n",
    "portions_num = 30\n",
    "with warnings.catch_warnings():\n",
    "    warnings.filterwarnings('ignore', category=UserWarning)\n",
    "    for e in tqdm_notebook(estimators, desc='Estimators'):\n",
    "        for i in tqdm_notebook(np.linspace(start=100, stop=turk_labels.shape[0], num=portions_num), desc='Portions', leave=False):\n",
    "            i = int(i)\n",
    "            clf = estimators[e]\n",
    "            clf.fit(X=turk_features['firstn_tfidf'][:i], y=turk_labels[:i])\n",
    "            preds = clf.predict(X=prem_features['firstn_tfidf'])\n",
    "            report = classification_report(y_true=prem_labels, y_pred=preds, target_names=LABELS)\n",
    "            report_df = classification_report_to_df(report)\n",
    "            precision = report_df['avg-p'][0]\n",
    "            recall = report_df['avg-r'][0]\n",
    "            f1 = report_df['avg-f1'][0]\n",
    "            scores[e].append((i, precision, recall, f1))"
   ]
  },
  {
   "cell_type": "code",
   "execution_count": 80,
   "metadata": {
    "ExecuteTime": {
     "end_time": "2017-12-02T23:43:01.361279Z",
     "start_time": "2017-12-02T23:43:00.942703Z"
    }
   },
   "outputs": [
    {
     "name": "stderr",
     "output_type": "stream",
     "text": [
      "/Users/bcserna/anaconda/lib/python3.6/site-packages/ipykernel_launcher.py:13: DeprecationWarning: `spline` is deprecated!\n",
      "spline is deprecated in scipy 0.19.0, use Bspline class instead.\n",
      "  del sys.path[0]\n"
     ]
    },
    {
     "data": {
      "text/plain": [
       "<matplotlib.legend.Legend at 0x1645654a8>"
      ]
     },
     "execution_count": 80,
     "metadata": {},
     "output_type": "execute_result"
    },
    {
     "data": {
      "image/png": "[encoded data removed]",
      "text/plain": [
       "<matplotlib.figure.Figure at 0x16455b588>"
      ]
     },
     "metadata": {},
     "output_type": "display_data"
    }
   ],
   "source": [
    "from scipy.interpolate import spline\n",
    "\n",
    "fig = plt.figure()\n",
    "fig.set_size_inches(15, 10)\n",
    "plt.xlabel('Tanító minták száma', fontsize='xx-large')\n",
    "plt.ylabel('F1-score', fontsize='xx-large')\n",
    "for e, color in zip(estimators, ['red', 'blue', 'green', 'yellow']):\n",
    "    x, y = [], []\n",
    "    for portion, _, _, f1 in scores[e]:\n",
    "        x.append(portion)\n",
    "        y.append(f1)\n",
    "    x_smooth = np.linspace(x[0],x[-1],len(x)*3)\n",
    "    smooth = spline(x, y, x_smooth, order=3)\n",
    "    plt.plot(x_smooth, smooth, label=e, linewidth='6',\n",
    "#              marker='o', markersize='10',\n",
    "#              dash_joinstyle='round', dash_capstyle='butt'\n",
    "            )\n",
    "    \n",
    "#     x, y = [], []\n",
    "#     for portion, precision, _, _ in scores[e]:\n",
    "#         x.append(portion)\n",
    "#         y.append(precision)\n",
    "#     plt.plot(x, y, label=e+'_precision', linewidth=2, linestyle=':')\n",
    "    \n",
    "#     x, y = [], []\n",
    "#     for portion, _, recall, _ in scores[e]:\n",
    "#         x.append(portion)\n",
    "#         y.append(recall)\n",
    "#     plt.plot(x, y, label=e+'_recall', linewidth=2, linestyle='-.')\n",
    "plt.legend(loc='best')"
   ]
  },
  {
   "cell_type": "markdown",
   "metadata": {},
   "source": [
    "## Testing models (trained on turk) with premium data"
   ]
  },
  {
   "cell_type": "code",
   "execution_count": 25,
   "metadata": {
    "ExecuteTime": {
     "end_time": "2017-11-16T15:28:25.966998Z",
     "start_time": "2017-11-16T15:28:24.188642Z"
    }
   },
   "outputs": [
    {
     "name": "stdout",
     "output_type": "stream",
     "text": [
      "198\n",
      "(198, 1921)\n"
     ]
    }
   ],
   "source": [
    "premium_messages = pd.read_csv('./data/premium_preprocessed.csv').MessageText.values\n",
    "premium_messages = [pd.DataFrame({'MessageText': [m]}) for m in premium_messages]\n",
    "print(len(premium_messages))\n",
    "premium_vectors = tagger.extractor.generate_vectors(chats=premium_messages, fit=False)\n",
    "print(premium_vectors.shape)\n",
    "premium_labels = joblib.load('./data/labels_300.pkl')"
   ]
  },
  {
   "cell_type": "code",
   "execution_count": 14,
   "metadata": {
    "ExecuteTime": {
     "end_time": "2017-10-25T13:56:28.068213Z",
     "start_time": "2017-10-25T13:56:28.060672Z"
    },
    "collapsed": true
   },
   "outputs": [],
   "source": [
    "premium_vectors = turk_scaler.transform(premium_vectors)"
   ]
  },
  {
   "cell_type": "code",
   "execution_count": 18,
   "metadata": {
    "ExecuteTime": {
     "end_time": "2017-10-25T14:08:03.268023Z",
     "start_time": "2017-10-25T14:01:10.216473Z"
    }
   },
   "outputs": [
    {
     "data": {},
     "metadata": {},
     "output_type": "display_data"
    },
    {
     "data": {},
     "metadata": {},
     "output_type": "display_data"
    },
    {
     "data": {},
     "metadata": {},
     "output_type": "display_data"
    },
    {
     "data": {},
     "metadata": {},
     "output_type": "display_data"
    },
    {
     "name": "stdout",
     "output_type": "stream",
     "text": [
      "\n"
     ]
    }
   ],
   "source": [
    "scores = {e:[] for e in estimators}\n",
    "portions_num = 30\n",
    "with warnings.catch_warnings():\n",
    "    warnings.filterwarnings('ignore', category=UserWarning)\n",
    "    portion_preds = {}\n",
    "    for e in tqdm_notebook(estimators, desc='Estimators'):\n",
    "        for i in tqdm_notebook(np.linspace(start=100, stop=turk_data.shape[0], num=portions_num), desc='Portions', leave=False):\n",
    "            i = int(i)\n",
    "            estimator = OneVsRestClassifier(estimators[e]).fit(X=min_df_turk_features[:i], y=min_df_turk_labels[:i])\n",
    "            pred = estimator.predict(premium_vectors)\n",
    "            report_df = classification_report_to_df(classification_report(y_pred=pred,\n",
    "                                                                          y_true=premium_labels,\n",
    "                                                                          target_names=LABELS))\n",
    "            fscore = report_df['avg-f1'].values[0]\n",
    "            scores[e].append((i, fscore))"
   ]
  },
  {
   "cell_type": "code",
   "execution_count": 19,
   "metadata": {
    "ExecuteTime": {
     "end_time": "2017-10-25T14:08:03.648373Z",
     "start_time": "2017-10-25T14:08:03.270186Z"
    }
   },
   "outputs": [
    {
     "data": {
      "text/plain": [
       "<matplotlib.legend.Legend at 0x126780eb8>"
      ]
     },
     "execution_count": 19,
     "metadata": {},
     "output_type": "execute_result"
    },
    {
     "data": {
      "image/png": "[encoded data removed]",
      "text/plain": [
       "<matplotlib.figure.Figure at 0x126ac4f98>"
      ]
     },
     "metadata": {},
     "output_type": "display_data"
    }
   ],
   "source": [
    "fig = plt.figure()\n",
    "fig.set_size_inches(15, 10)\n",
    "plt.xlabel('# training examples')\n",
    "plt.ylabel('F1-score on test set')\n",
    "for e in estimators:\n",
    "    x = []\n",
    "    y = []\n",
    "    for x_, y_ in scores[e]:\n",
    "        x.append(x_)\n",
    "        y.append(y_)\n",
    "    plt.plot(x, y, label=e)\n",
    "plt.legend(loc='best')"
   ]
  },
  {
   "cell_type": "markdown",
   "metadata": {
    "collapsed": true
   },
   "source": [
    "# Voting classifier test"
   ]
  },
  {
   "cell_type": "code",
   "execution_count": 5,
   "metadata": {
    "ExecuteTime": {
     "end_time": "2017-11-16T13:30:08.454692Z",
     "start_time": "2017-11-16T13:29:24.085350Z"
    },
    "scrolled": false
   },
   "outputs": [
    {
     "name": "stderr",
     "output_type": "stream",
     "text": [
      "/Users/bcserna/anaconda/lib/python3.6/site-packages/sklearn/linear_model/stochastic_gradient.py:84: FutureWarning: max_iter and tol parameters have been added in <class 'sklearn.linear_model.stochastic_gradient.SGDClassifier'> in 0.19. If both are left unset, they default to max_iter=5 and tol=None. If tol is not None, max_iter defaults to max_iter=1000. From 0.21, default max_iter will be 1000, and default tol will be 1e-3.\n",
      "  \"and default tol will be 1e-3.\" % type(self), FutureWarning)\n",
      "/Users/bcserna/anaconda/lib/python3.6/site-packages/sklearn/metrics/classification.py:1135: UndefinedMetricWarning: F-score is ill-defined and being set to 0.0 in labels with no predicted samples.\n",
      "  'precision', 'predicted', average, warn_for)\n",
      "/Users/bcserna/anaconda/lib/python3.6/site-packages/sklearn/metrics/classification.py:1137: UndefinedMetricWarning: F-score is ill-defined and being set to 0.0 in labels with no true samples.\n",
      "  'recall', 'true', average, warn_for)\n",
      "/Users/bcserna/anaconda/lib/python3.6/site-packages/sklearn/metrics/classification.py:1135: UndefinedMetricWarning: Precision and F-score are ill-defined and being set to 0.0 in labels with no predicted samples.\n",
      "  'precision', 'predicted', average, warn_for)\n",
      "/Users/bcserna/anaconda/lib/python3.6/site-packages/sklearn/metrics/classification.py:1137: UndefinedMetricWarning: Recall and F-score are ill-defined and being set to 0.0 in labels with no true samples.\n",
      "  'recall', 'true', average, warn_for)\n"
     ]
    },
    {
     "name": "stdout",
     "output_type": "stream",
     "text": [
      "knn                               precision    recall  f1-score   support\n",
      "\n",
      "                  Answer-Ack       0.56      0.29      0.38        17\n",
      "                   Answer-No       0.00      0.00      0.00         2\n",
      "                  Answer-Yes       0.71      0.36      0.48        14\n",
      "            Greeting-Closing       0.57      0.57      0.57         7\n",
      "            Greeting-Opening       0.64      0.64      0.64        22\n",
      "               Question-Open       0.69      0.39      0.50        28\n",
      "              Question-YesNo       0.75      0.42      0.54        36\n",
      "                Request-Help       0.00      0.00      0.00         1\n",
      "                Request-Info       0.82      0.33      0.47        42\n",
      "               Request-Other       0.00      0.00      0.00         1\n",
      "           Socialact-Apology       0.00      0.00      0.00         1\n",
      "        Socialact-Downplayer       0.75      0.25      0.38        12\n",
      "         Socialact-Gratitude       0.92      0.63      0.75        35\n",
      "         Statement-Complaint       0.00      0.00      0.00         2\n",
      "Statement-ExpressiveNegative       0.00      0.00      0.00         0\n",
      "Statement-ExpressivePositive       0.00      0.00      0.00         6\n",
      "       Statement-Informative       0.96      0.76      0.85        88\n",
      "         Statement-OfferHelp       0.88      0.78      0.82        18\n",
      "           Statement-Promise       0.00      0.00      0.00         2\n",
      "     Statement-SuggestAction       0.29      0.33      0.31         6\n",
      "\n",
      "                 avg / total       0.77      0.52      0.61       340\n",
      "\n",
      "sgd                               precision    recall  f1-score   support\n",
      "\n",
      "                  Answer-Ack       0.53      0.47      0.50        17\n",
      "                   Answer-No       0.06      0.50      0.11         2\n",
      "                  Answer-Yes       1.00      0.29      0.44        14\n",
      "            Greeting-Closing       0.55      0.86      0.67         7\n",
      "            Greeting-Opening       0.68      0.68      0.68        22\n",
      "               Question-Open       0.86      0.21      0.34        28\n",
      "              Question-YesNo       1.00      0.03      0.05        36\n",
      "                Request-Help       0.00      0.00      0.00         1\n",
      "                Request-Info       1.00      0.02      0.05        42\n",
      "               Request-Other       0.00      0.00      0.00         1\n",
      "           Socialact-Apology       0.00      0.00      0.00         1\n",
      "        Socialact-Downplayer       0.56      0.83      0.67        12\n",
      "         Socialact-Gratitude       0.83      1.00      0.91        35\n",
      "         Statement-Complaint       0.00      0.00      0.00         2\n",
      "Statement-ExpressiveNegative       0.00      0.00      0.00         0\n",
      "Statement-ExpressivePositive       0.00      0.00      0.00         6\n",
      "       Statement-Informative       1.00      0.06      0.11        88\n",
      "         Statement-OfferHelp       0.10      1.00      0.17        18\n",
      "           Statement-Promise       0.00      0.00      0.00         2\n",
      "     Statement-SuggestAction       0.00      0.00      0.00         6\n",
      "\n",
      "                 avg / total       0.79      0.32      0.30       340\n",
      "\n",
      "ec_hard                               precision    recall  f1-score   support\n",
      "\n",
      "                  Answer-Ack       0.50      0.53      0.51        17\n",
      "                   Answer-No       0.06      0.50      0.10         2\n",
      "                  Answer-Yes       0.71      0.36      0.48        14\n",
      "            Greeting-Closing       0.46      0.86      0.60         7\n",
      "            Greeting-Opening       0.67      0.73      0.70        22\n",
      "               Question-Open       0.68      0.46      0.55        28\n",
      "              Question-YesNo       0.76      0.44      0.56        36\n",
      "                Request-Help       0.00      0.00      0.00         1\n",
      "                Request-Info       0.82      0.33      0.47        42\n",
      "               Request-Other       0.00      0.00      0.00         1\n",
      "           Socialact-Apology       0.00      0.00      0.00         1\n",
      "        Socialact-Downplayer       0.56      0.83      0.67        12\n",
      "         Socialact-Gratitude       0.80      1.00      0.89        35\n",
      "         Statement-Complaint       0.00      0.00      0.00         2\n",
      "Statement-ExpressiveNegative       0.00      0.00      0.00         0\n",
      "Statement-ExpressivePositive       0.00      0.00      0.00         6\n",
      "       Statement-Informative       0.96      0.76      0.85        88\n",
      "         Statement-OfferHelp       0.10      1.00      0.17        18\n",
      "           Statement-Promise       0.00      0.00      0.00         2\n",
      "     Statement-SuggestAction       0.29      0.33      0.31         6\n",
      "\n",
      "                 avg / total       0.71      0.62      0.62       340\n",
      "\n",
      "ec_stack                               precision    recall  f1-score   support\n",
      "\n",
      "                  Answer-Ack       0.56      0.29      0.38        17\n",
      "                   Answer-No       0.00      0.00      0.00         2\n",
      "                  Answer-Yes       0.71      0.36      0.48        14\n",
      "            Greeting-Closing       0.60      0.86      0.71         7\n",
      "            Greeting-Opening       0.61      0.64      0.62        22\n",
      "               Question-Open       0.69      0.39      0.50        28\n",
      "              Question-YesNo       0.75      0.42      0.54        36\n",
      "                Request-Help       0.00      0.00      0.00         1\n",
      "                Request-Info       0.82      0.33      0.47        42\n",
      "               Request-Other       0.00      0.00      0.00         1\n",
      "           Socialact-Apology       0.00      0.00      0.00         1\n",
      "        Socialact-Downplayer       0.83      0.42      0.56        12\n",
      "         Socialact-Gratitude       0.96      0.63      0.76        35\n",
      "         Statement-Complaint       0.00      0.00      0.00         2\n",
      "Statement-ExpressiveNegative       0.00      0.00      0.00         0\n",
      "Statement-ExpressivePositive       0.00      0.00      0.00         6\n",
      "       Statement-Informative       0.96      0.75      0.84        88\n",
      "         Statement-OfferHelp       0.88      0.78      0.82        18\n",
      "           Statement-Promise       0.00      0.00      0.00         2\n",
      "     Statement-SuggestAction       0.29      0.33      0.31         6\n",
      "\n",
      "                 avg / total       0.77      0.53      0.61       340\n",
      "\n"
     ]
    }
   ],
   "source": [
    "from dialog_act_tagger.ensemble import EnsembleClassifier\n",
    "\n",
    "svm = OneVsRestClassifier(LinearSVC())\n",
    "knn = OneVsRestClassifier(KNeighborsClassifier(n_neighbors=3))\n",
    "sgd = OneVsRestClassifier(SGDClassifier(loss='log', penalty='elasticnet'))\n",
    "\n",
    "simple_clfs = [\n",
    "#     svm,\n",
    "    knn,\n",
    "    sgd\n",
    "]\n",
    "\n",
    "ec_hard = EnsembleClassifier(simple_clfs, voting='hard')\n",
    "ec_hard.fit(min_df_turk_features, min_df_turk_labels)\n",
    "\n",
    "ec_stack = EnsembleClassifier(simple_clfs, voting='stacking')\n",
    "ec_stack.fit(min_df_turk_features, min_df_turk_labels)\n",
    "\n",
    "classifiers = [\n",
    "#     (svm, 'svm'),\n",
    "    (knn, 'knn'),\n",
    "    (sgd, 'sgd'),\n",
    "    (ec_hard, 'ec_hard'),\n",
    "    (ec_stack, 'ec_stack')\n",
    "]\n",
    "\n",
    "for clf, name in classifiers:\n",
    "    pred = clf.predict(premium_vectors)\n",
    "    scores = f1_score(premium_labels, pred, average='weighted')\n",
    "    print(name, classification_report(premium_labels, pred, target_names=LABELS))"
   ]
  },
  {
   "cell_type": "code",
   "execution_count": 30,
   "metadata": {
    "ExecuteTime": {
     "end_time": "2017-11-16T15:29:32.643251Z",
     "start_time": "2017-11-16T15:29:22.513810Z"
    }
   },
   "outputs": [
    {
     "name": "stderr",
     "output_type": "stream",
     "text": [
      "/Users/bcserna/anaconda/lib/python3.6/site-packages/torch/serialization.py:286: SourceChangeWarning: source code of class 'models.BLSTMEncoder' has changed. you can retrieve the original source code by accessing the object's source attribute or set `torch.nn.Module.dump_patches = True` and use the patch tool to revert the changes.\n",
      "  warnings.warn(msg, SourceChangeWarning)\n"
     ]
    },
    {
     "name": "stdout",
     "output_type": "stream",
     "text": [
      "Vocab size : 100000\n"
     ]
    }
   ],
   "source": [
    "import torch\n",
    "\n",
    "infersent = torch.load('./encoder/infersent.allnli.pickle',\n",
    "                       map_location=lambda storage, loc: storage)\n",
    "\n",
    "infersent.set_glove_path('./encoder/glove.840B.300d.txt')\n",
    "infersent.build_vocab_k_words(K=100000)"
   ]
  },
  {
   "cell_type": "code",
   "execution_count": 31,
   "metadata": {
    "ExecuteTime": {
     "end_time": "2017-11-16T15:30:02.732352Z",
     "start_time": "2017-11-16T15:29:32.645816Z"
    },
    "collapsed": true
   },
   "outputs": [],
   "source": [
    "turk_messages = pd.read_csv('./data/preprocessed_turk.csv').MessageText.values\n",
    "turk_embeddings = infersent.encode(turk_messages)\n",
    "premium_embeddings = infersent.encode(premium_messages)"
   ]
  },
  {
   "cell_type": "code",
   "execution_count": 32,
   "metadata": {
    "ExecuteTime": {
     "end_time": "2017-11-16T15:30:38.449481Z",
     "start_time": "2017-11-16T15:30:22.252618Z"
    }
   },
   "outputs": [
    {
     "data": {
      "text/plain": [
       "OneVsRestClassifier(estimator=LinearSVC(C=1.0, class_weight=None, dual=True, fit_intercept=True,\n",
       "     intercept_scaling=1, loss='squared_hinge', max_iter=1000,\n",
       "     multi_class='ovr', penalty='l2', random_state=None, tol=0.0001,\n",
       "     verbose=0),\n",
       "          n_jobs=1)"
      ]
     },
     "execution_count": 32,
     "metadata": {},
     "output_type": "execute_result"
    }
   ],
   "source": [
    "infersent_svc = OneVsRestClassifier(LinearSVC())\n",
    "infersent_svc.fit(turk_embeddings, min_df_turk_labels)"
   ]
  },
  {
   "cell_type": "code",
   "execution_count": 34,
   "metadata": {
    "ExecuteTime": {
     "end_time": "2017-11-16T15:31:53.840773Z",
     "start_time": "2017-11-16T15:31:53.713694Z"
    }
   },
   "outputs": [
    {
     "name": "stderr",
     "output_type": "stream",
     "text": [
      "/Users/bcserna/anaconda/lib/python3.6/site-packages/sklearn/metrics/classification.py:1135: UndefinedMetricWarning: F-score is ill-defined and being set to 0.0 in labels with no predicted samples.\n",
      "  'precision', 'predicted', average, warn_for)\n",
      "/Users/bcserna/anaconda/lib/python3.6/site-packages/sklearn/metrics/classification.py:1137: UndefinedMetricWarning: F-score is ill-defined and being set to 0.0 in labels with no true samples.\n",
      "  'recall', 'true', average, warn_for)\n"
     ]
    },
    {
     "data": {
      "text/plain": [
       "0.6498969742800359"
      ]
     },
     "execution_count": 34,
     "metadata": {},
     "output_type": "execute_result"
    }
   ],
   "source": [
    "premium_pred = infersent_svc.predict(premium_embeddings)\n",
    "f1_score(premium_labels, premium_pred, average='weighted')"
   ]
  },
  {
   "cell_type": "code",
   "execution_count": null,
   "metadata": {
    "collapsed": true
   },
   "outputs": [],
   "source": []
  }
 ],
 "metadata": {
  "gist": {
   "data": {
    "description": "Individually good classifiers.ipynb",
    "public": false
   },
   "id": ""
  },
  "kernelspec": {
   "display_name": "Python 3",
   "language": "python",
   "name": "python3"
  },
  "language_info": {
   "codemirror_mode": {
    "name": "ipython",
    "version": 3
   },
   "file_extension": ".py",
   "mimetype": "text/x-python",
   "name": "python",
   "nbconvert_exporter": "python",
   "pygments_lexer": "ipython3",
   "version": "3.6.1"
  }
 },
 "nbformat": 4,
 "nbformat_minor": 2
}
