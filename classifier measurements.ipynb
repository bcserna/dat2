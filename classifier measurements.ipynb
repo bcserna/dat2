{
 "cells": [
  {
   "cell_type": "code",
   "execution_count": 1,
   "metadata": {
    "ExecuteTime": {
     "end_time": "2017-11-27T13:28:55.147188Z",
     "start_time": "2017-11-27T13:28:49.972924Z"
    },
    "collapsed": true
   },
   "outputs": [],
   "source": [
    "import numpy as np\n",
    "import pandas as pd\n",
    "import warnings\n",
    "import re\n",
    "from tqdm import tqdm_notebook\n",
    "from collections import OrderedDict\n",
    "from sklearn.metrics import f1_score, classification_report\n",
    "from sklearn.exceptions import UndefinedMetricWarning\n",
    "from sklearn.svm import LinearSVC, SVC\n",
    "from sklearn.linear_model import SGDClassifier, LogisticRegressionCV\n",
    "from sklearn.multiclass import OneVsRestClassifier\n",
    "from sklearn.model_selection import cross_val_predict\n",
    "from sklearn.naive_bayes import MultinomialNB, GaussianNB, BernoulliNB\n",
    "from sklearn.preprocessing import MinMaxScaler, MaxAbsScaler, StandardScaler\n",
    "from sklearn.neighbors import KNeighborsClassifier\n",
    "from sklearn.externals import joblib\n",
    "from scipy.sparse import hstack, csr_matrix\n",
    "import matplotlib.pyplot as plt\n",
    "%matplotlib inline\n",
    "\n",
    "from dat2.tagger import Tagger, EnsembleClassifier\n",
    "from dat2.util import label_vectors_to_string, print_messages_with_labels, LABELS\n",
    "\n",
    "pd.set_option('display.max_rows', 500)\n",
    "pd.set_option('display.max_columns', 500)\n",
    "\n",
    "random_state = 777"
   ]
  },
  {
   "cell_type": "code",
   "execution_count": 49,
   "metadata": {
    "ExecuteTime": {
     "end_time": "2017-11-28T13:46:18.879154Z",
     "start_time": "2017-11-28T13:46:18.460110Z"
    }
   },
   "outputs": [
    {
     "name": "stdout",
     "output_type": "stream",
     "text": [
      "char feature length: 12102\n",
      "all_tfidf feature length: 1109\n",
      "firstn_tfidf feature length: 264\n",
      "infersent feature length: 4096\n",
      "wordvec feature length: 300\n",
      "combined feature length: 17871\n"
     ]
    }
   ],
   "source": [
    "turk_labels = joblib.load('./data/turk_labels.pkl')\n",
    "prem_labels = joblib.load('./data/prem_labels.pkl')\n",
    "turk_features = {}\n",
    "prem_features = {}\n",
    "feature_categories = ['char', 'all_tfidf', 'firstn_tfidf', 'infersent', 'wordvec', 'combined']\n",
    "\n",
    "for category in feature_categories:\n",
    "    turk_features[category] = joblib.load(''.join(('./data/turk_', category, '.pkl')))\n",
    "    prem_features[category] = joblib.load(''.join(('./data/prem_', category, '.pkl')))\n",
    "    \n",
    "for category in feature_categories:\n",
    "    print(category, 'feature length:', turk_features[category].shape[1])"
   ]
  },
  {
   "cell_type": "code",
   "execution_count": 3,
   "metadata": {
    "ExecuteTime": {
     "end_time": "2017-11-27T13:28:56.652856Z",
     "start_time": "2017-11-27T13:28:56.633471Z"
    },
    "collapsed": true
   },
   "outputs": [],
   "source": [
    "def classification_report_to_df(report):\n",
    "    rows = report.split('\\n')\n",
    "    fields = OrderedDict()\n",
    "    split_avg = str.split(rows[-2])\n",
    "    fields['avg-p'] = float(split_avg[3])\n",
    "    fields['avg-r'] = float(split_avg[4])\n",
    "    fields['avg-f1'] = float(split_avg[5])\n",
    "    for row in rows[1:-2]:\n",
    "        if row:\n",
    "            split_row = str.split(row)\n",
    "            fields['p-' + split_row[0]] = float(split_row[1])\n",
    "            fields['r-' + split_row[0]] = float(split_row[2])\n",
    "            fields['f1-' + split_row[0]] = float(split_row[3])\n",
    "            fields['supp-' + split_row[0]] = int(split_row[4])\n",
    "    return pd.DataFrame(data=fields, index=[0])\n",
    "\n",
    "def filter_by_support(scores, threshold):\n",
    "    for label in LABELS:\n",
    "        supp_column_name = 'supp-' + label\n",
    "        if scores[[supp_column_name]].values[0] < threshold:\n",
    "            scores = scores.drop(\n",
    "                [supp_column_name, 'p-' + label, 'r-' + label, 'f1-' + label],\n",
    "                axis=1, errors='ignore')\n",
    "    return scores\n",
    "\n",
    "def f1_scores_only(scores):\n",
    "    for label in LABELS:\n",
    "        scores = scores.drop(['p-'+label, 'r-'+label, 'supp-'+label], axis=1, errors='ignore')\n",
    "    return scores"
   ]
  },
  {
   "cell_type": "code",
   "execution_count": 23,
   "metadata": {
    "ExecuteTime": {
     "end_time": "2017-11-27T16:13:24.049292Z",
     "start_time": "2017-11-27T16:13:23.945892Z"
    }
   },
   "outputs": [
    {
     "name": "stderr",
     "output_type": "stream",
     "text": [
      "/Users/bcserna/anaconda/lib/python3.6/site-packages/sklearn/linear_model/stochastic_gradient.py:84: FutureWarning: max_iter and tol parameters have been added in <class 'sklearn.linear_model.stochastic_gradient.SGDClassifier'> in 0.19. If both are left unset, they default to max_iter=5 and tol=None. If tol is not None, max_iter defaults to max_iter=1000. From 0.21, default max_iter will be 1000, and default tol will be 1e-3.\n",
      "  \"and default tol will be 1e-3.\" % type(self), FutureWarning)\n"
     ]
    }
   ],
   "source": [
    "classifiers = {\n",
    "    'PolyKernelBalancedSVC': OneVsRestClassifier(\n",
    "        SVC(\n",
    "            kernel='poly',\n",
    "            class_weight='balanced',\n",
    "            random_state=random_state),\n",
    "        n_jobs=-1),\n",
    "    'RBFKernelBalancedSVC': OneVsRestClassifier(\n",
    "        SVC(\n",
    "            kernel='rbf',\n",
    "            class_weight='balanced',\n",
    "            random_state=random_state),\n",
    "        n_jobs=-1),\n",
    "    'LinearKernelBalancedSVC': OneVsRestClassifier(\n",
    "        SVC(\n",
    "            kernel='linear',\n",
    "            class_weight='balanced',\n",
    "            random_state=random_state),\n",
    "        n_jobs=-1),\n",
    "    \n",
    "    'L1_ModhuberSGD': OneVsRestClassifier(\n",
    "        SGDClassifier(\n",
    "            loss='modified_huber',\n",
    "            penalty='l1',\n",
    "            class_weight='balanced', \n",
    "            random_state=random_state),\n",
    "        n_jobs=-1),\n",
    "    'L2_ModhuberSGD': OneVsRestClassifier(\n",
    "        SGDClassifier(\n",
    "            loss='modified_huber',\n",
    "            penalty='l2',\n",
    "            class_weight='balanced', \n",
    "            random_state=random_state),\n",
    "        n_jobs=-1),\n",
    "    'ElasticModhuberSGD': OneVsRestClassifier(\n",
    "        SGDClassifier(\n",
    "            loss='modified_huber',\n",
    "            penalty='elasticnet',\n",
    "            class_weight='balanced', \n",
    "            random_state=random_state),\n",
    "        n_jobs=-1),\n",
    "    \n",
    "    'L1LogSGD': OneVsRestClassifier(\n",
    "        SGDClassifier(\n",
    "            loss='log', \n",
    "            penalty='l1',\n",
    "            class_weight='balanced',\n",
    "            random_state=random_state),\n",
    "        n_jobs=-1),\n",
    "    'L2LogSGD': OneVsRestClassifier(\n",
    "        SGDClassifier(\n",
    "            loss='log',\n",
    "            penalty='l2',\n",
    "            class_weight='balanced',\n",
    "            random_state=random_state),\n",
    "        n_jobs=-1),\n",
    "    'ElasticLogSGD': OneVsRestClassifier(\n",
    "        SGDClassifier(\n",
    "            loss='log',\n",
    "            penalty='elasticnet',\n",
    "            class_weight='balanced',\n",
    "            random_state=random_state),\n",
    "        n_jobs=-1),\n",
    "\n",
    "    'KNN-3': OneVsRestClassifier(\n",
    "        KNeighborsClassifier(\n",
    "            n_neighbors=3, \n",
    "            n_jobs=-1),\n",
    "        n_jobs=-1),\n",
    "    'KNN-5': OneVsRestClassifier(\n",
    "        KNeighborsClassifier(\n",
    "            n_neighbors=5,\n",
    "            n_jobs=-1),\n",
    "        n_jobs=-1),\n",
    "    'KNN-7': OneVsRestClassifier(\n",
    "        KNeighborsClassifier(\n",
    "            n_neighbors=7,\n",
    "            n_jobs=-1), \n",
    "        n_jobs=-1),\n",
    "    \n",
    "    'GaussianNB': OneVsRestClassifier(GaussianNB(), n_jobs=-1),\n",
    "    'MultinomialNB': OneVsRestClassifier(MultinomialNB(), n_jobs=-1),\n",
    "#     'HardVote': EnsembleClassifier(\n",
    "#         [OneVsRestClassifier(LinearSVC()),\n",
    "#          OneVsRestClassifier(KNeighborsClassifier(n_neighbors=3)),\n",
    "#          OneVsRestClassifier(SGDClassifier(loss='log', penalty='elasticnet'))],\n",
    "#         voting='hard'),\n",
    "#     'Stacking': EnsembleClassifier(\n",
    "#         [OneVsRestClassifier(LinearSVC()),\n",
    "#          OneVsRestClassifier(KNeighborsClassifier(n_neighbors=3)),\n",
    "#          OneVsRestClassifier(SGDClassifier(loss='log', penalty='elasticnet'))],\n",
    "#         voting='stacking'),\n",
    "    \n",
    "}"
   ]
  },
  {
   "cell_type": "code",
   "execution_count": 24,
   "metadata": {
    "ExecuteTime": {
     "end_time": "2017-11-27T16:13:25.012350Z",
     "start_time": "2017-11-27T16:13:25.001207Z"
    }
   },
   "outputs": [],
   "source": [
    "def evaluate_classifiers(classifiers=classifiers, features=feature_categories):\n",
    "    feature_reports = {}\n",
    "    with warnings.catch_warnings():\n",
    "        warnings.filterwarnings('ignore', category=UserWarning)\n",
    "\n",
    "        for f in tqdm_notebook(features, desc='Feature sets'):\n",
    "            clf_reports = {}\n",
    "            for clf_name in tqdm_notebook(classifiers, desc=''.join(['Classifiers', '(', f, ')']), leave=False):\n",
    "                clf = classifiers[clf_name]\n",
    "                clf.fit(X=turk_features[f], y=turk_labels)\n",
    "                pred = clf.predict(prem_features[f])\n",
    "                report = classification_report(prem_labels, pred, target_names=LABELS)\n",
    "                report_df = classification_report_to_df(report)\n",
    "                clf_reports[clf_name] = report_df\n",
    "            feature_reports[f] = clf_reports\n",
    "    return feature_reports"
   ]
  },
  {
   "cell_type": "code",
   "execution_count": 26,
   "metadata": {
    "ExecuteTime": {
     "end_time": "2017-11-27T16:29:30.444597Z",
     "start_time": "2017-11-27T16:13:26.356164Z"
    }
   },
   "outputs": [
    {
     "data": {
      "application/vnd.jupyter.widget-view+json": {
       "model_id": "8d89a3f506154d1893d43f3d0acfd6dd"
      }
     },
     "metadata": {},
     "output_type": "display_data"
    },
    {
     "data": {
      "application/vnd.jupyter.widget-view+json": {
       "model_id": "64f2d3f3f980416cac8f85f9f549a95c"
      }
     },
     "metadata": {},
     "output_type": "display_data"
    },
    {
     "data": {
      "application/vnd.jupyter.widget-view+json": {
       "model_id": "2ad162511a454cf5a0c3476a2cbf9226"
      }
     },
     "metadata": {},
     "output_type": "display_data"
    },
    {
     "data": {
      "application/vnd.jupyter.widget-view+json": {
       "model_id": "13db6614fa1a4350b440aa0f3b366b47"
      }
     },
     "metadata": {},
     "output_type": "display_data"
    },
    {
     "data": {
      "application/vnd.jupyter.widget-view+json": {
       "model_id": "5d9aaba36a044a088e98cdbc60f8a43e"
      }
     },
     "metadata": {},
     "output_type": "display_data"
    },
    {
     "data": {
      "application/vnd.jupyter.widget-view+json": {
       "model_id": "5d734ae2a8784e768d78355e90f4a768"
      }
     },
     "metadata": {},
     "output_type": "display_data"
    },
    {
     "data": {
      "application/vnd.jupyter.widget-view+json": {
       "model_id": "45832ad7fa104b6b880389efea2f964d"
      }
     },
     "metadata": {},
     "output_type": "display_data"
    },
    {
     "name": "stdout",
     "output_type": "stream",
     "text": [
      "\n"
     ]
    }
   ],
   "source": [
    "reports = evaluate_classifiers()"
   ]
  },
  {
   "cell_type": "code",
   "execution_count": 27,
   "metadata": {
    "ExecuteTime": {
     "end_time": "2017-11-27T16:29:40.325767Z",
     "start_time": "2017-11-27T16:29:40.204017Z"
    }
   },
   "outputs": [
    {
     "name": "stdout",
     "output_type": "stream",
     "text": [
      "\n",
      " PolyKernelBalancedSVC\n",
      "char [ 0.25]\n",
      "tfidf [ 0.28]\n",
      "firstn [ 0.53]\n",
      "infersent [ 0.66]\n",
      "wordvec [ 0.69]\n",
      "combined [ 0.65]\n",
      "\n",
      " RBFKernelBalancedSVC\n",
      "char [ 0.52]\n",
      "tfidf [ 0.56]\n",
      "firstn [ 0.63]\n",
      "infersent [ 0.69]\n",
      "wordvec [ 0.71]\n",
      "combined [ 0.68]\n",
      "\n",
      " LinearKernelBalancedSVC\n",
      "char [ 0.52]\n",
      "tfidf [ 0.59]\n",
      "firstn [ 0.64]\n",
      "infersent [ 0.63]\n",
      "wordvec [ 0.63]\n",
      "combined [ 0.63]\n",
      "\n",
      " L1_ModhuberSGD\n",
      "char [ 0.57]\n",
      "tfidf [ 0.58]\n",
      "firstn [ 0.62]\n",
      "infersent [ 0.67]\n",
      "wordvec [ 0.62]\n",
      "combined [ 0.7]\n",
      "\n",
      " L2_ModhuberSGD\n",
      "char [ 0.56]\n",
      "tfidf [ 0.58]\n",
      "firstn [ 0.61]\n",
      "infersent [ 0.6]\n",
      "wordvec [ 0.64]\n",
      "combined [ 0.66]\n",
      "\n",
      " ElasticModhuberSGD\n",
      "char [ 0.59]\n",
      "tfidf [ 0.59]\n",
      "firstn [ 0.62]\n",
      "infersent [ 0.65]\n",
      "wordvec [ 0.61]\n",
      "combined [ 0.61]\n",
      "\n",
      " L1LogSGD\n",
      "char [ 0.58]\n",
      "tfidf [ 0.58]\n",
      "firstn [ 0.63]\n",
      "infersent [ 0.69]\n",
      "wordvec [ 0.65]\n",
      "combined [ 0.7]\n",
      "\n",
      " L2LogSGD\n",
      "char [ 0.57]\n",
      "tfidf [ 0.59]\n",
      "firstn [ 0.61]\n",
      "infersent [ 0.63]\n",
      "wordvec [ 0.64]\n",
      "combined [ 0.66]\n",
      "\n",
      " ElasticLogSGD\n",
      "char [ 0.59]\n",
      "tfidf [ 0.58]\n",
      "firstn [ 0.6]\n",
      "infersent [ 0.64]\n",
      "wordvec [ 0.58]\n",
      "combined [ 0.66]\n",
      "\n",
      " KNN-3\n",
      "char [ 0.29]\n",
      "tfidf [ 0.49]\n",
      "firstn [ 0.46]\n",
      "infersent [ 0.46]\n",
      "wordvec [ 0.52]\n",
      "combined [ 0.44]\n",
      "\n",
      " KNN-5\n",
      "char [ 0.23]\n",
      "tfidf [ 0.45]\n",
      "firstn [ 0.44]\n",
      "infersent [ 0.42]\n",
      "wordvec [ 0.5]\n",
      "combined [ 0.37]\n",
      "\n",
      " KNN-7\n",
      "char [ 0.2]\n",
      "tfidf [ 0.43]\n",
      "firstn [ 0.41]\n",
      "infersent [ 0.38]\n",
      "wordvec [ 0.48]\n",
      "combined [ 0.34]\n"
     ]
    }
   ],
   "source": [
    "for clf_name in classifiers:\n",
    "    print('\\n', clf_name)\n",
    "    for f in ['char', 'all_tfidf', 'firstn_tfidf', 'infersent', 'wordvec', 'combined']:\n",
    "        print(f, reports[f][clf_name][['avg-f1']].values[0])"
   ]
  },
  {
   "cell_type": "markdown",
   "metadata": {
    "ExecuteTime": {
     "end_time": "2017-10-06T14:28:15.267707Z",
     "start_time": "2017-10-06T14:28:15.263707Z"
    }
   },
   "source": [
    "## Evaluating with different portions of the data"
   ]
  },
  {
   "cell_type": "code",
   "execution_count": 6,
   "metadata": {
    "ExecuteTime": {
     "end_time": "2017-11-16T15:23:49.942952Z",
     "start_time": "2017-11-16T15:23:49.899379Z"
    },
    "collapsed": true
   },
   "outputs": [],
   "source": [
    "min_df_combined_features, min_df_combined_labels \\\n",
    "= Tagger.load_feature_vectors('./data/min_df_combined_feature_vectors.pkl', './data/min_df_combined_labels.pkl')\n",
    "min_df_turk_features, min_df_turk_labels \\\n",
    "= Tagger.load_feature_vectors('./data/min_df_turk_feature_vectors.pkl', './data/min_df_turk_labels.pkl')"
   ]
  },
  {
   "cell_type": "code",
   "execution_count": 8,
   "metadata": {
    "ExecuteTime": {
     "end_time": "2017-10-25T13:49:50.978881Z",
     "start_time": "2017-10-25T13:19:06.861807Z"
    }
   },
   "outputs": [
    {
     "data": {},
     "metadata": {},
     "output_type": "display_data"
    },
    {
     "data": {},
     "metadata": {},
     "output_type": "display_data"
    },
    {
     "data": {},
     "metadata": {},
     "output_type": "display_data"
    },
    {
     "data": {},
     "metadata": {},
     "output_type": "display_data"
    },
    {
     "name": "stdout",
     "output_type": "stream",
     "text": [
      "\n"
     ]
    }
   ],
   "source": [
    "scores = {e:[] for e in estimators}\n",
    "portions_num = 30\n",
    "with warnings.catch_warnings():\n",
    "    warnings.filterwarnings('ignore', category=UserWarning)\n",
    "    for e in tqdm_notebook(estimators, desc='Estimators'):\n",
    "        for i in tqdm_notebook(np.linspace(start=100, stop=min_df_combined_labels.shape[0], num=portions_num), desc='Portions', leave=False):\n",
    "            i = int(i)\n",
    "            ev = evaluate_model_df(\n",
    "                estimators[e],\n",
    "#                 feature_sets['Combined'][:i],\n",
    "                min_df_combined_features[:i],\n",
    "#                 labels[:i],\n",
    "                min_df_combined_labels[:i],\n",
    "                e,\n",
    "                'Combined')\n",
    "            avg_f_score = ev[['avg-f1']].values[0][0]\n",
    "            scores[e].append((i, avg_f_score))"
   ]
  },
  {
   "cell_type": "code",
   "execution_count": 9,
   "metadata": {
    "ExecuteTime": {
     "end_time": "2017-10-25T13:49:51.316751Z",
     "start_time": "2017-10-25T13:49:50.981520Z"
    }
   },
   "outputs": [
    {
     "data": {
      "text/plain": [
       "<matplotlib.legend.Legend at 0x11de8c4a8>"
      ]
     },
     "execution_count": 9,
     "metadata": {},
     "output_type": "execute_result"
    },
    {
     "data": {
      "image/png": "[encoded data removed]",
      "text/plain": [
       "<matplotlib.figure.Figure at 0x15ce04a90>"
      ]
     },
     "metadata": {},
     "output_type": "display_data"
    }
   ],
   "source": [
    "fig = plt.figure()\n",
    "fig.set_size_inches(15, 10)\n",
    "plt.xlabel('# examples')\n",
    "plt.ylabel('Cross-validated F1-score')\n",
    "for e in estimators:\n",
    "    x = []\n",
    "    y = []\n",
    "    for x_, y_ in scores[e]:\n",
    "        x.append(x_)\n",
    "        y.append(y_)\n",
    "    plt.plot(x, y, label=e)\n",
    "plt.legend(loc='best')"
   ]
  },
  {
   "cell_type": "markdown",
   "metadata": {},
   "source": [
    "## Testing models (trained on turk) with premium data"
   ]
  },
  {
   "cell_type": "code",
   "execution_count": 25,
   "metadata": {
    "ExecuteTime": {
     "end_time": "2017-11-16T15:28:25.966998Z",
     "start_time": "2017-11-16T15:28:24.188642Z"
    }
   },
   "outputs": [
    {
     "name": "stdout",
     "output_type": "stream",
     "text": [
      "198\n",
      "(198, 1921)\n"
     ]
    }
   ],
   "source": [
    "from sklearn.externals import joblib\n",
    "# turk_data = joblib.load('./data/feature_vectors.pkl')\n",
    "# turk_data = joblib.load('./data/min_df_turk_feature_vectors.pkl')\n",
    "# turk_labels = joblib.load('./data/gold_labels.pkl')\n",
    "# print(turk_data.shape, turk_labels.shape)\n",
    "tagger = Tagger()\n",
    "premium_messages = pd.read_csv('./data/premium_preprocessed.csv').MessageText.values\n",
    "premium_messages = [pd.DataFrame({'MessageText': [m]}) for m in premium_messages]\n",
    "print(len(premium_messages))\n",
    "premium_vectors = tagger.extractor.generate_vectors(chats=premium_messages, fit=False)\n",
    "print(premium_vectors.shape)\n",
    "premium_labels = joblib.load('./data/labels_300.pkl')"
   ]
  },
  {
   "cell_type": "code",
   "execution_count": 14,
   "metadata": {
    "ExecuteTime": {
     "end_time": "2017-10-25T13:56:28.068213Z",
     "start_time": "2017-10-25T13:56:28.060672Z"
    },
    "collapsed": true
   },
   "outputs": [],
   "source": [
    "premium_vectors = turk_scaler.transform(premium_vectors)"
   ]
  },
  {
   "cell_type": "code",
   "execution_count": 18,
   "metadata": {
    "ExecuteTime": {
     "end_time": "2017-10-25T14:08:03.268023Z",
     "start_time": "2017-10-25T14:01:10.216473Z"
    }
   },
   "outputs": [
    {
     "data": {},
     "metadata": {},
     "output_type": "display_data"
    },
    {
     "data": {},
     "metadata": {},
     "output_type": "display_data"
    },
    {
     "data": {},
     "metadata": {},
     "output_type": "display_data"
    },
    {
     "data": {},
     "metadata": {},
     "output_type": "display_data"
    },
    {
     "name": "stdout",
     "output_type": "stream",
     "text": [
      "\n"
     ]
    }
   ],
   "source": [
    "scores = {e:[] for e in estimators}\n",
    "portions_num = 30\n",
    "with warnings.catch_warnings():\n",
    "    warnings.filterwarnings('ignore', category=UserWarning)\n",
    "    portion_preds = {}\n",
    "    for e in tqdm_notebook(estimators, desc='Estimators'):\n",
    "        for i in tqdm_notebook(np.linspace(start=100, stop=turk_data.shape[0], num=portions_num), desc='Portions', leave=False):\n",
    "            i = int(i)\n",
    "            estimator = OneVsRestClassifier(estimators[e]).fit(X=min_df_turk_features[:i], y=min_df_turk_labels[:i])\n",
    "            pred = estimator.predict(premium_vectors)\n",
    "            report_df = classification_report_to_df(classification_report(y_pred=pred,\n",
    "                                                                          y_true=premium_labels,\n",
    "                                                                          target_names=LABELS))\n",
    "            fscore = report_df['avg-f1'].values[0]\n",
    "            scores[e].append((i, fscore))"
   ]
  },
  {
   "cell_type": "code",
   "execution_count": 19,
   "metadata": {
    "ExecuteTime": {
     "end_time": "2017-10-25T14:08:03.648373Z",
     "start_time": "2017-10-25T14:08:03.270186Z"
    }
   },
   "outputs": [
    {
     "data": {
      "text/plain": [
       "<matplotlib.legend.Legend at 0x126780eb8>"
      ]
     },
     "execution_count": 19,
     "metadata": {},
     "output_type": "execute_result"
    },
    {
     "data": {
      "image/png": "[encoded data removed]",
      "text/plain": [
       "<matplotlib.figure.Figure at 0x126ac4f98>"
      ]
     },
     "metadata": {},
     "output_type": "display_data"
    }
   ],
   "source": [
    "fig = plt.figure()\n",
    "fig.set_size_inches(15, 10)\n",
    "plt.xlabel('# training examples')\n",
    "plt.ylabel('F1-score on test set')\n",
    "for e in estimators:\n",
    "    x = []\n",
    "    y = []\n",
    "    for x_, y_ in scores[e]:\n",
    "        x.append(x_)\n",
    "        y.append(y_)\n",
    "    plt.plot(x, y, label=e)\n",
    "plt.legend(loc='best')"
   ]
  },
  {
   "cell_type": "markdown",
   "metadata": {
    "collapsed": true
   },
   "source": [
    "# Voting classifier test"
   ]
  },
  {
   "cell_type": "code",
   "execution_count": 5,
   "metadata": {
    "ExecuteTime": {
     "end_time": "2017-11-16T13:30:08.454692Z",
     "start_time": "2017-11-16T13:29:24.085350Z"
    },
    "scrolled": false
   },
   "outputs": [
    {
     "name": "stderr",
     "output_type": "stream",
     "text": [
      "/Users/bcserna/anaconda/lib/python3.6/site-packages/sklearn/linear_model/stochastic_gradient.py:84: FutureWarning: max_iter and tol parameters have been added in <class 'sklearn.linear_model.stochastic_gradient.SGDClassifier'> in 0.19. If both are left unset, they default to max_iter=5 and tol=None. If tol is not None, max_iter defaults to max_iter=1000. From 0.21, default max_iter will be 1000, and default tol will be 1e-3.\n",
      "  \"and default tol will be 1e-3.\" % type(self), FutureWarning)\n",
      "/Users/bcserna/anaconda/lib/python3.6/site-packages/sklearn/metrics/classification.py:1135: UndefinedMetricWarning: F-score is ill-defined and being set to 0.0 in labels with no predicted samples.\n",
      "  'precision', 'predicted', average, warn_for)\n",
      "/Users/bcserna/anaconda/lib/python3.6/site-packages/sklearn/metrics/classification.py:1137: UndefinedMetricWarning: F-score is ill-defined and being set to 0.0 in labels with no true samples.\n",
      "  'recall', 'true', average, warn_for)\n",
      "/Users/bcserna/anaconda/lib/python3.6/site-packages/sklearn/metrics/classification.py:1135: UndefinedMetricWarning: Precision and F-score are ill-defined and being set to 0.0 in labels with no predicted samples.\n",
      "  'precision', 'predicted', average, warn_for)\n",
      "/Users/bcserna/anaconda/lib/python3.6/site-packages/sklearn/metrics/classification.py:1137: UndefinedMetricWarning: Recall and F-score are ill-defined and being set to 0.0 in labels with no true samples.\n",
      "  'recall', 'true', average, warn_for)\n"
     ]
    },
    {
     "name": "stdout",
     "output_type": "stream",
     "text": [
      "knn                               precision    recall  f1-score   support\n",
      "\n",
      "                  Answer-Ack       0.56      0.29      0.38        17\n",
      "                   Answer-No       0.00      0.00      0.00         2\n",
      "                  Answer-Yes       0.71      0.36      0.48        14\n",
      "            Greeting-Closing       0.57      0.57      0.57         7\n",
      "            Greeting-Opening       0.64      0.64      0.64        22\n",
      "               Question-Open       0.69      0.39      0.50        28\n",
      "              Question-YesNo       0.75      0.42      0.54        36\n",
      "                Request-Help       0.00      0.00      0.00         1\n",
      "                Request-Info       0.82      0.33      0.47        42\n",
      "               Request-Other       0.00      0.00      0.00         1\n",
      "           Socialact-Apology       0.00      0.00      0.00         1\n",
      "        Socialact-Downplayer       0.75      0.25      0.38        12\n",
      "         Socialact-Gratitude       0.92      0.63      0.75        35\n",
      "         Statement-Complaint       0.00      0.00      0.00         2\n",
      "Statement-ExpressiveNegative       0.00      0.00      0.00         0\n",
      "Statement-ExpressivePositive       0.00      0.00      0.00         6\n",
      "       Statement-Informative       0.96      0.76      0.85        88\n",
      "         Statement-OfferHelp       0.88      0.78      0.82        18\n",
      "           Statement-Promise       0.00      0.00      0.00         2\n",
      "     Statement-SuggestAction       0.29      0.33      0.31         6\n",
      "\n",
      "                 avg / total       0.77      0.52      0.61       340\n",
      "\n",
      "sgd                               precision    recall  f1-score   support\n",
      "\n",
      "                  Answer-Ack       0.53      0.47      0.50        17\n",
      "                   Answer-No       0.06      0.50      0.11         2\n",
      "                  Answer-Yes       1.00      0.29      0.44        14\n",
      "            Greeting-Closing       0.55      0.86      0.67         7\n",
      "            Greeting-Opening       0.68      0.68      0.68        22\n",
      "               Question-Open       0.86      0.21      0.34        28\n",
      "              Question-YesNo       1.00      0.03      0.05        36\n",
      "                Request-Help       0.00      0.00      0.00         1\n",
      "                Request-Info       1.00      0.02      0.05        42\n",
      "               Request-Other       0.00      0.00      0.00         1\n",
      "           Socialact-Apology       0.00      0.00      0.00         1\n",
      "        Socialact-Downplayer       0.56      0.83      0.67        12\n",
      "         Socialact-Gratitude       0.83      1.00      0.91        35\n",
      "         Statement-Complaint       0.00      0.00      0.00         2\n",
      "Statement-ExpressiveNegative       0.00      0.00      0.00         0\n",
      "Statement-ExpressivePositive       0.00      0.00      0.00         6\n",
      "       Statement-Informative       1.00      0.06      0.11        88\n",
      "         Statement-OfferHelp       0.10      1.00      0.17        18\n",
      "           Statement-Promise       0.00      0.00      0.00         2\n",
      "     Statement-SuggestAction       0.00      0.00      0.00         6\n",
      "\n",
      "                 avg / total       0.79      0.32      0.30       340\n",
      "\n",
      "ec_hard                               precision    recall  f1-score   support\n",
      "\n",
      "                  Answer-Ack       0.50      0.53      0.51        17\n",
      "                   Answer-No       0.06      0.50      0.10         2\n",
      "                  Answer-Yes       0.71      0.36      0.48        14\n",
      "            Greeting-Closing       0.46      0.86      0.60         7\n",
      "            Greeting-Opening       0.67      0.73      0.70        22\n",
      "               Question-Open       0.68      0.46      0.55        28\n",
      "              Question-YesNo       0.76      0.44      0.56        36\n",
      "                Request-Help       0.00      0.00      0.00         1\n",
      "                Request-Info       0.82      0.33      0.47        42\n",
      "               Request-Other       0.00      0.00      0.00         1\n",
      "           Socialact-Apology       0.00      0.00      0.00         1\n",
      "        Socialact-Downplayer       0.56      0.83      0.67        12\n",
      "         Socialact-Gratitude       0.80      1.00      0.89        35\n",
      "         Statement-Complaint       0.00      0.00      0.00         2\n",
      "Statement-ExpressiveNegative       0.00      0.00      0.00         0\n",
      "Statement-ExpressivePositive       0.00      0.00      0.00         6\n",
      "       Statement-Informative       0.96      0.76      0.85        88\n",
      "         Statement-OfferHelp       0.10      1.00      0.17        18\n",
      "           Statement-Promise       0.00      0.00      0.00         2\n",
      "     Statement-SuggestAction       0.29      0.33      0.31         6\n",
      "\n",
      "                 avg / total       0.71      0.62      0.62       340\n",
      "\n",
      "ec_stack                               precision    recall  f1-score   support\n",
      "\n",
      "                  Answer-Ack       0.56      0.29      0.38        17\n",
      "                   Answer-No       0.00      0.00      0.00         2\n",
      "                  Answer-Yes       0.71      0.36      0.48        14\n",
      "            Greeting-Closing       0.60      0.86      0.71         7\n",
      "            Greeting-Opening       0.61      0.64      0.62        22\n",
      "               Question-Open       0.69      0.39      0.50        28\n",
      "              Question-YesNo       0.75      0.42      0.54        36\n",
      "                Request-Help       0.00      0.00      0.00         1\n",
      "                Request-Info       0.82      0.33      0.47        42\n",
      "               Request-Other       0.00      0.00      0.00         1\n",
      "           Socialact-Apology       0.00      0.00      0.00         1\n",
      "        Socialact-Downplayer       0.83      0.42      0.56        12\n",
      "         Socialact-Gratitude       0.96      0.63      0.76        35\n",
      "         Statement-Complaint       0.00      0.00      0.00         2\n",
      "Statement-ExpressiveNegative       0.00      0.00      0.00         0\n",
      "Statement-ExpressivePositive       0.00      0.00      0.00         6\n",
      "       Statement-Informative       0.96      0.75      0.84        88\n",
      "         Statement-OfferHelp       0.88      0.78      0.82        18\n",
      "           Statement-Promise       0.00      0.00      0.00         2\n",
      "     Statement-SuggestAction       0.29      0.33      0.31         6\n",
      "\n",
      "                 avg / total       0.77      0.53      0.61       340\n",
      "\n"
     ]
    }
   ],
   "source": [
    "from dialog_act_tagger.ensemble import EnsembleClassifier\n",
    "\n",
    "svm = OneVsRestClassifier(LinearSVC())\n",
    "knn = OneVsRestClassifier(KNeighborsClassifier(n_neighbors=3))\n",
    "sgd = OneVsRestClassifier(SGDClassifier(loss='log', penalty='elasticnet'))\n",
    "\n",
    "simple_clfs = [\n",
    "#     svm,\n",
    "    knn,\n",
    "    sgd\n",
    "]\n",
    "\n",
    "ec_hard = EnsembleClassifier(simple_clfs, voting='hard')\n",
    "ec_hard.fit(min_df_turk_features, min_df_turk_labels)\n",
    "\n",
    "ec_stack = EnsembleClassifier(simple_clfs, voting='stacking')\n",
    "ec_stack.fit(min_df_turk_features, min_df_turk_labels)\n",
    "\n",
    "classifiers = [\n",
    "#     (svm, 'svm'),\n",
    "    (knn, 'knn'),\n",
    "    (sgd, 'sgd'),\n",
    "    (ec_hard, 'ec_hard'),\n",
    "    (ec_stack, 'ec_stack')\n",
    "]\n",
    "\n",
    "for clf, name in classifiers:\n",
    "    pred = clf.predict(premium_vectors)\n",
    "    scores = f1_score(premium_labels, pred, average='weighted')\n",
    "    print(name, classification_report(premium_labels, pred, target_names=LABELS))"
   ]
  },
  {
   "cell_type": "code",
   "execution_count": 30,
   "metadata": {
    "ExecuteTime": {
     "end_time": "2017-11-16T15:29:32.643251Z",
     "start_time": "2017-11-16T15:29:22.513810Z"
    }
   },
   "outputs": [
    {
     "name": "stderr",
     "output_type": "stream",
     "text": [
      "/Users/bcserna/anaconda/lib/python3.6/site-packages/torch/serialization.py:286: SourceChangeWarning: source code of class 'models.BLSTMEncoder' has changed. you can retrieve the original source code by accessing the object's source attribute or set `torch.nn.Module.dump_patches = True` and use the patch tool to revert the changes.\n",
      "  warnings.warn(msg, SourceChangeWarning)\n"
     ]
    },
    {
     "name": "stdout",
     "output_type": "stream",
     "text": [
      "Vocab size : 100000\n"
     ]
    }
   ],
   "source": [
    "import torch\n",
    "\n",
    "infersent = torch.load('./encoder/infersent.allnli.pickle',\n",
    "                       map_location=lambda storage, loc: storage)\n",
    "\n",
    "infersent.set_glove_path('./encoder/glove.840B.300d.txt')\n",
    "infersent.build_vocab_k_words(K=100000)"
   ]
  },
  {
   "cell_type": "code",
   "execution_count": 31,
   "metadata": {
    "ExecuteTime": {
     "end_time": "2017-11-16T15:30:02.732352Z",
     "start_time": "2017-11-16T15:29:32.645816Z"
    },
    "collapsed": true
   },
   "outputs": [],
   "source": [
    "turk_messages = pd.read_csv('./data/preprocessed_turk.csv').MessageText.values\n",
    "turk_embeddings = infersent.encode(turk_messages)\n",
    "premium_embeddings = infersent.encode(premium_messages)"
   ]
  },
  {
   "cell_type": "code",
   "execution_count": 32,
   "metadata": {
    "ExecuteTime": {
     "end_time": "2017-11-16T15:30:38.449481Z",
     "start_time": "2017-11-16T15:30:22.252618Z"
    }
   },
   "outputs": [
    {
     "data": {
      "text/plain": [
       "OneVsRestClassifier(estimator=LinearSVC(C=1.0, class_weight=None, dual=True, fit_intercept=True,\n",
       "     intercept_scaling=1, loss='squared_hinge', max_iter=1000,\n",
       "     multi_class='ovr', penalty='l2', random_state=None, tol=0.0001,\n",
       "     verbose=0),\n",
       "          n_jobs=1)"
      ]
     },
     "execution_count": 32,
     "metadata": {},
     "output_type": "execute_result"
    }
   ],
   "source": [
    "infersent_svc = OneVsRestClassifier(LinearSVC())\n",
    "infersent_svc.fit(turk_embeddings, min_df_turk_labels)"
   ]
  },
  {
   "cell_type": "code",
   "execution_count": 34,
   "metadata": {
    "ExecuteTime": {
     "end_time": "2017-11-16T15:31:53.840773Z",
     "start_time": "2017-11-16T15:31:53.713694Z"
    }
   },
   "outputs": [
    {
     "name": "stderr",
     "output_type": "stream",
     "text": [
      "/Users/bcserna/anaconda/lib/python3.6/site-packages/sklearn/metrics/classification.py:1135: UndefinedMetricWarning: F-score is ill-defined and being set to 0.0 in labels with no predicted samples.\n",
      "  'precision', 'predicted', average, warn_for)\n",
      "/Users/bcserna/anaconda/lib/python3.6/site-packages/sklearn/metrics/classification.py:1137: UndefinedMetricWarning: F-score is ill-defined and being set to 0.0 in labels with no true samples.\n",
      "  'recall', 'true', average, warn_for)\n"
     ]
    },
    {
     "data": {
      "text/plain": [
       "0.6498969742800359"
      ]
     },
     "execution_count": 34,
     "metadata": {},
     "output_type": "execute_result"
    }
   ],
   "source": [
    "premium_pred = infersent_svc.predict(premium_embeddings)\n",
    "f1_score(premium_labels, premium_pred, average='weighted')"
   ]
  },
  {
   "cell_type": "code",
   "execution_count": null,
   "metadata": {
    "collapsed": true
   },
   "outputs": [],
   "source": []
  }
 ],
 "metadata": {
  "gist": {
   "data": {
    "description": "Individually good classifiers.ipynb",
    "public": false
   },
   "id": ""
  },
  "kernelspec": {
   "display_name": "Python 3",
   "language": "python",
   "name": "python3"
  },
  "language_info": {
   "codemirror_mode": {
    "name": "ipython",
    "version": 3
   },
   "file_extension": ".py",
   "mimetype": "text/x-python",
   "name": "python",
   "nbconvert_exporter": "python",
   "pygments_lexer": "ipython3",
   "version": "3.6.1"
  }
 },
 "nbformat": 4,
 "nbformat_minor": 2
}
